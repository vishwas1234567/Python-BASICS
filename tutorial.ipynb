{
 "cells": [
  {
   "cell_type": "markdown",
   "metadata": {},
   "source": [
    "# White Space Indentation the key for the sucessfull python programmer "
   ]
  },
  {
   "cell_type": "code",
   "execution_count": 2,
   "metadata": {},
   "outputs": [
    {
     "name": "stdout",
     "output_type": "stream",
     "text": [
      "fooodie pie\n"
     ]
    }
   ],
   "source": [
    "print('fooodie pie')"
   ]
  },
  {
   "cell_type": "code",
   "execution_count": 3,
   "metadata": {},
   "outputs": [
    {
     "ename": "IndentationError",
     "evalue": "unexpected indent (<ipython-input-3-7c8eeb50c7a8>, line 2)",
     "output_type": "error",
     "traceback": [
      "\u001b[1;36m  File \u001b[1;32m\"<ipython-input-3-7c8eeb50c7a8>\"\u001b[1;36m, line \u001b[1;32m2\u001b[0m\n\u001b[1;33m    print('bakasura')\u001b[0m\n\u001b[1;37m    ^\u001b[0m\n\u001b[1;31mIndentationError\u001b[0m\u001b[1;31m:\u001b[0m unexpected indent\n"
     ]
    }
   ],
   "source": [
    "print('fooodie pie')\n",
    "    print('bakasura')"
   ]
  },
  {
   "cell_type": "code",
   "execution_count": 1,
   "metadata": {},
   "outputs": [
    {
     "name": "stdout",
     "output_type": "stream",
     "text": [
      "[1, 'a', 'string', 3]\n"
     ]
    }
   ],
   "source": [
    "l = [1,\"a\",\"string\",1+2]\n",
    "print(l)"
   ]
  },
  {
   "cell_type": "code",
   "execution_count": 3,
   "metadata": {},
   "outputs": [
    {
     "name": "stdout",
     "output_type": "stream",
     "text": [
      "[1, 'a', 'string', 3]\n",
      "[1, 'a', 'string', 3, 6]\n",
      "[1, 'a', 'string', 3]\n",
      "a\n"
     ]
    }
   ],
   "source": [
    "l = [1,\"a\",\"string\",1+2]\n",
    "print(l)\n",
    "l.append(6)\n",
    "print(l)\n",
    "l.pop()\n",
    "print(l)\n",
    "print(l[1])"
   ]
  },
  {
   "cell_type": "markdown",
   "metadata": {},
   "source": [
    "# tuples"
   ]
  },
  {
   "cell_type": "code",
   "execution_count": 4,
   "metadata": {},
   "outputs": [
    {
     "name": "stdout",
     "output_type": "stream",
     "text": [
      "(1, 'A', 'string', 3, 7)\n"
     ]
    }
   ],
   "source": [
    "tup = (1,\"A\",\"string\",1+2,4+3)\n",
    "print(tup)"
   ]
  },
  {
   "cell_type": "code",
   "execution_count": 8,
   "metadata": {},
   "outputs": [
    {
     "name": "stdout",
     "output_type": "stream",
     "text": [
      "(1, 'A', 'string', 3, 7)\n",
      "A\n",
      "1\n",
      "3\n",
      "7\n"
     ]
    }
   ],
   "source": [
    "tup = (1,\"A\",\"string\",1+2,4+3)\n",
    "print(tup)\n",
    "print(tup[1])\n",
    "print(tup[0])\n",
    "print(tup[3])\n",
    "print(tup[4])"
   ]
  },
  {
   "cell_type": "code",
   "execution_count": 11,
   "metadata": {},
   "outputs": [
    {
     "name": "stdout",
     "output_type": "stream",
     "text": [
      "H\n",
      "e\n",
      "l\n",
      "l\n",
      "o\n",
      " \n",
      "w\n",
      "o\n",
      "r\n",
      "l\n",
      "d\n"
     ]
    }
   ],
   "source": [
    "string =\"Hello world\"\n",
    "for i in string :\n",
    "    print(i)"
   ]
  },
  {
   "cell_type": "code",
   "execution_count": 98,
   "metadata": {},
   "outputs": [
    {
     "name": "stdout",
     "output_type": "stream",
     "text": [
      "1\n",
      "2\n",
      "3\n",
      "4\n",
      "5\n",
      "6\n"
     ]
    }
   ],
   "source": [
    "l = [1,2,3,4,5,6]\n",
    "for i in l:\n",
    "    print(i)"
   ]
  },
  {
   "cell_type": "code",
   "execution_count": 20,
   "metadata": {},
   "outputs": [
    {
     "name": "stdout",
     "output_type": "stream",
     "text": [
      "python @its awesome but it only hacks but doesnt bites\n"
     ]
    }
   ],
   "source": [
    "print(\"python \",end = \"@\")\n",
    "print(\"its awesome but it only hacks but doesnt bites\")"
   ]
  },
  {
   "cell_type": "code",
   "execution_count": 21,
   "metadata": {},
   "outputs": [
    {
     "name": "stdout",
     "output_type": "stream",
     "text": [
      "the name please from the emailvishwasnarayan2345\n",
      "vishwasnarayan2345@gmail.com\n"
     ]
    }
   ],
   "source": [
    "a = input(\"the name please from the email\")\n",
    "print(a,end ='@')\n",
    "print(\"gmail.com\")"
   ]
  },
  {
   "cell_type": "code",
   "execution_count": 6,
   "metadata": {},
   "outputs": [
    {
     "name": "stdout",
     "output_type": "stream",
     "text": [
      "<class 'int'>\n",
      "<class 'float'>\n"
     ]
    }
   ],
   "source": [
    "x = 10\n",
    "print(type(x))\n",
    "y = 1.000\n",
    "print(type(y))"
   ]
  },
  {
   "cell_type": "code",
   "execution_count": 45,
   "metadata": {},
   "outputs": [
    {
     "name": "stdout",
     "output_type": "stream",
     "text": [
      "the user id\n",
      "Nonevishwas\n",
      "print(any platoform t email)hathway\n",
      "vishwas@hathway.com"
     ]
    }
   ],
   "source": [
    "a = input(print(\"the user id\"))\n",
    "b = input(\"print(any platoform t email)\")\n",
    "print(a,b,sep = \"@\" ,end ='.com')"
   ]
  },
  {
   "cell_type": "markdown",
   "metadata": {},
   "source": [
    "# output formatting"
   ]
  },
  {
   "cell_type": "code",
   "execution_count": 50,
   "metadata": {},
   "outputs": [
    {
     "name": "stdout",
     "output_type": "stream",
     "text": [
      "technoids  3 boys:out of   5 new memers\n"
     ]
    }
   ],
   "source": [
    "print(\"technoids%3d boys:out of %3d new memers\"%(3,5))"
   ]
  },
  {
   "cell_type": "code",
   "execution_count": 12,
   "metadata": {},
   "outputs": [
    {
     "ename": "NameError",
     "evalue": "name 'operator' is not defined",
     "output_type": "error",
     "traceback": [
      "\u001b[1;31m---------------------------------------------------------------------------\u001b[0m",
      "\u001b[1;31mNameError\u001b[0m                                 Traceback (most recent call last)",
      "\u001b[1;32m<ipython-input-12-dd8c683d46c1>\u001b[0m in \u001b[0;36m<module>\u001b[1;34m\u001b[0m\n\u001b[0;32m      1\u001b[0m \u001b[0mcv\u001b[0m \u001b[1;33m=\u001b[0m \u001b[1;36m1.0\u001b[0m\u001b[1;33m\u001b[0m\u001b[1;33m\u001b[0m\u001b[0m\n\u001b[0;32m      2\u001b[0m \u001b[0mcd\u001b[0m \u001b[1;33m=\u001b[0m \u001b[1;36m1\u001b[0m\u001b[1;33m\u001b[0m\u001b[1;33m\u001b[0m\u001b[0m\n\u001b[1;32m----> 3\u001b[1;33m \u001b[0mp\u001b[0m \u001b[1;33m=\u001b[0m \u001b[0moperator\u001b[0m\u001b[1;33m.\u001b[0m\u001b[0miadd\u001b[0m\u001b[1;33m(\u001b[0m\u001b[0mcv\u001b[0m\u001b[1;33m,\u001b[0m\u001b[0mcd\u001b[0m\u001b[1;33m)\u001b[0m\u001b[1;33m\u001b[0m\u001b[1;33m\u001b[0m\u001b[0m\n\u001b[0m\u001b[0;32m      4\u001b[0m \u001b[0mprint\u001b[0m\u001b[1;33m(\u001b[0m\u001b[0mp\u001b[0m\u001b[1;33m)\u001b[0m\u001b[1;33m\u001b[0m\u001b[1;33m\u001b[0m\u001b[0m\n",
      "\u001b[1;31mNameError\u001b[0m: name 'operator' is not defined"
     ]
    }
   ],
   "source": [
    "cv = 1.0\n",
    "cd = 1\n",
    "p = operator.iadd(cv,cd)\n",
    "print(p)"
   ]
  },
  {
   "cell_type": "code",
   "execution_count": 77,
   "metadata": {},
   "outputs": [
    {
     "name": "stdout",
     "output_type": "stream",
     "text": [
      "i_xor: 10\n",
      "i_and: 1\n",
      "i_or: 11\n",
      "the i add: 12\n",
      "left shift: 22\n",
      "i rightshift: 5\n",
      "the add func: 12\n",
      "the mul func: 11\n",
      "the sub 10\n",
      "the true div func: 11.0\n",
      "the func pow: 11\n",
      "the func lt: False\n",
      "the func le: False\n",
      "the func equl: False\n",
      "the func gt: True\n",
      "the func ge: True\n",
      "the func ne: True\n",
      "moudlus: 0\n",
      "math trunc 11\n",
      "i mul: 11\n",
      "i pow: 11\n",
      "math.floor: 1\n",
      "math.ceil: 1\n"
     ]
    }
   ],
   "source": [
    "import operator\n",
    "import math\n",
    "cv = 11\n",
    "cd = 1\n",
    "p = operator.iadd(cv,cd)\n",
    "q = operator.add(cv,cd)\n",
    "r = operator.mul(cv,cd)\n",
    "s = operator.sub(cv,cd)\n",
    "#t = operator.div(cv,cd)\n",
    "u = operator.truediv(cv,cd)\n",
    "v = operator.pow(cv,cd)\n",
    "w = operator.lt(cv,cd)\n",
    "x = operator.le(cv,cd)\n",
    "z = operator.eq(cv,cd)\n",
    "aa = operator.gt(cv,cd)\n",
    "bb = operator.ge(cv,cd)\n",
    "cc = operator.ne(cv,cd)\n",
    "mod = operator.mod(cv,cd) \n",
    "imul = operator.imul(cv,cd)\n",
    "ipow = operator.ipow(cv,cd)\n",
    "i_xor = operator.ixor(cv,cd)\n",
    "print(\"i_xor:\",i_xor)\n",
    "i_and = operator.iand(cv,cd)\n",
    "print(\"i_and:\",i_and)\n",
    "i_or = operator.ior(cv,cd)\n",
    "print(\"i_or:\",i_or)\n",
    "print(\"the i add:\",q)\n",
    "i_lshft = operator.ilshift(cv,cd)\n",
    "i_rshift = operator.irshift(cv,cd)\n",
    "print(\"left shift:\",i_lshft)\n",
    "print(\"i rightshift:\",i_rshift)\n",
    "print(\"the add func:\",p)\n",
    "print(\"the mul func:\",r)\n",
    "print(\"the sub\",s)\n",
    "#print(t)\n",
    "print(\"the true div func:\",u)\n",
    "print(\"the func pow:\",v)\n",
    "print(\"the func lt:\",w)\n",
    "print(\"the func le:\",x)\n",
    "#print(y)\n",
    "print(\"the func equl:\",z)\n",
    "print(\"the func gt:\",aa)\n",
    "print(\"the func ge:\",bb)\n",
    "print(\"the func ne:\",cc)\n",
    "print(\"moudlus:\",mod)\n",
    "aaa = math.trunc(cv)\n",
    "print(\"math trunc\",aaa)\n",
    "print(\"i mul:\",imul)\n",
    "print(\"i pow:\",ipow)\n",
    "bbb = math.floor(cd)\n",
    "print(\"math.floor:\",bbb)\n",
    "ccc = math.ceil(cd)\n",
    "print(\"math.ceil:\",ccc)"
   ]
  },
  {
   "cell_type": "code",
   "execution_count": 50,
   "metadata": {},
   "outputs": [
    {
     "name": "stdout",
     "output_type": "stream",
     "text": [
      "the itertools.accumulate fnc :\n",
      "[1, 5, 10, 77]\n",
      "the product from the operator.mul\n",
      "[1, 4, 20, 1340]\n",
      "All the values in mentioned above will be chained\n",
      "[1, 4, 5, 67, 12, 52, 62, 72, 11, 51, 61, 71]\n",
      "All the vales above will be chained\n",
      "[1, 4, 5, 67, 12, 52, 62, 72, 11, 51, 61, 71]\n",
      "The compressed values in string are : ['v', 'a', 'a']\n",
      "condition retrn false\n",
      "[1, 5, 67]\n",
      "the islice finction\n",
      "[4]\n",
      "[1, 4, 1, 7]\n",
      "[30, 6, 5, 9]\n"
     ]
    }
   ],
   "source": [
    "import itertools\n",
    "import operator\n",
    "li1 = [1,4,5,67]\n",
    "li11= [(1,2,30),(4,5,6),(1,2,3,4,5),(7,8,9)]\n",
    "li2 = [12,52,62,72]\n",
    "li3 = [11,51,61,71]\n",
    "li4 = [li1,li2,li3]\n",
    "print(\"the itertools.accumulate fnc :\")\n",
    "print(list(itertools.accumulate(li1)))\n",
    "print(\"the product from the operator.mul\")\n",
    "print(list(itertools.accumulate(li1,operator.mul)))\n",
    "print(\"All the values in mentioned above will be chained\")\n",
    "print(list(itertools.chain(li1,li2,li3)))\n",
    "print(\"All the vales above will be chained\")\n",
    "print(list(itertools.chain.from_iterable(li4)))\n",
    "print (\"The compressed values in string are : \",end=\"\") \n",
    "print (list(itertools.compress('vishwasnarayana12051968',[1,0,0,0,0,1,0,0,1,0,0,0,0]))) \n",
    "print(\"condition retrn false\")\n",
    "print(list(itertools.filterfalse(lambda x: x%2 == 0 ,li1)))\n",
    "print(\"the islice finction\")\n",
    "print(list(itertools.islice(li1,1,2,3)))\n",
    "print(list(itertools.starmap(min,li11)))\n",
    "print(list(itertools.starmap(max,li11)))"
   ]
  },
  {
   "cell_type": "code",
   "execution_count": 24,
   "metadata": {},
   "outputs": [
    {
     "name": "stdout",
     "output_type": "stream",
     "text": [
      "the name please from the emailvishwasnarayan2345\n",
      "vishwasnarayan2345gmail.comgmail.com\n"
     ]
    }
   ],
   "source": [
    "a = input(\"the name please from the email\")\n",
    "print(a,sep ='@',end = \"gmail.com\")"
   ]
  },
  {
   "cell_type": "code",
   "execution_count": 23,
   "metadata": {},
   "outputs": [
    {
     "name": "stdout",
     "output_type": "stream",
     "text": [
      "Initializing the list\n",
      "[]\n",
      "['IN THE VERGE OF LEARNIGN PYTHON']\n"
     ]
    }
   ],
   "source": [
    "list = []\n",
    "print(\"Initializing the list\")\n",
    "print(list)\n",
    "LIST1 = [\"IN THE VERGE OF LEARNIGN PYTHON\"]\n",
    "print(LIST1)"
   ]
  },
  {
   "cell_type": "code",
   "execution_count": 24,
   "metadata": {},
   "outputs": [
    {
     "name": "stdout",
     "output_type": "stream",
     "text": [
      "Initializing the list\n",
      "[]\n",
      "['IN THE VERGE OF LEARNIGN PYTHON']\n",
      "['jacked up', 'team', 'technoids']\n"
     ]
    }
   ],
   "source": [
    "list = []\n",
    "print(\"Initializing the list\")\n",
    "print(list)\n",
    "LIST1 = [\"IN THE VERGE OF LEARNIGN PYTHON\"]\n",
    "print(LIST1)\n",
    "LIST2 =['jacked up','team','technoids']\n",
    "print(LIST2)"
   ]
  },
  {
   "cell_type": "code",
   "execution_count": 26,
   "metadata": {},
   "outputs": [
    {
     "name": "stdout",
     "output_type": "stream",
     "text": [
      "1908889926600\n",
      "1908890257992\n"
     ]
    }
   ],
   "source": [
    "list1 = []\n",
    "list2 =[]\n",
    "print(id(list1))\n",
    "print(id(list2))"
   ]
  },
  {
   "cell_type": "markdown",
   "metadata": {},
   "source": [
    "# append who cares only the program cares"
   ]
  },
  {
   "cell_type": "code",
   "execution_count": 27,
   "metadata": {},
   "outputs": [
    {
     "name": "stdout",
     "output_type": "stream",
     "text": [
      "[1, 2, 3]\n"
     ]
    }
   ],
   "source": [
    "LIST = []\n",
    "LIST.append(1)\n",
    "LIST.append(2)\n",
    "LIST.append(3)\n",
    "print(LIST)"
   ]
  },
  {
   "cell_type": "code",
   "execution_count": 34,
   "metadata": {},
   "outputs": [
    {
     "name": "stdout",
     "output_type": "stream",
     "text": [
      "1\n",
      "2\n",
      "3\n",
      "[1, 2, 3]\n",
      "[1, 2, 3, 90]\n"
     ]
    }
   ],
   "source": [
    "list = []\n",
    "for i in range(1,4):\n",
    "    list.append(i)\n",
    "    print(i)\n",
    "print(list)\n",
    "list.append(90)\n",
    "print(list)"
   ]
  },
  {
   "cell_type": "code",
   "execution_count": 36,
   "metadata": {},
   "outputs": [
    {
     "name": "stdout",
     "output_type": "stream",
     "text": [
      "1\n",
      "2\n",
      "3\n",
      "[1, 2, 3]\n",
      "[1, 2, 3, 90]\n",
      "[1, 2, 3, 90, 8, 'total technoids', 5, 'new', 'learning', 'geeks']\n"
     ]
    }
   ],
   "source": [
    "list = []\n",
    "for i in range(1,4):\n",
    "    list.append(i)\n",
    "    print(i)\n",
    "print(list)\n",
    "list.append(90)\n",
    "print(list)\n",
    "list.extend([8,\"total technoids\",5,\"new\",\"learning\",\"geeks\"])\n",
    "print(list)"
   ]
  },
  {
   "cell_type": "markdown",
   "metadata": {},
   "source": [
    "# slicing yummy python codes"
   ]
  },
  {
   "cell_type": "code",
   "execution_count": 42,
   "metadata": {},
   "outputs": [
    {
     "name": "stdout",
     "output_type": "stream",
     "text": [
      "[[1, 2, 3, 4, 5, 6], 4, 5, 6, 7]\n",
      "[[1, 2, 3, 4, 5, 6], 4, 5, 6, 7]\n",
      "[[1, 2, 3, 4, 5, 6]]\n",
      "None\n"
     ]
    }
   ],
   "source": [
    "list = [l,4,5,6,7]\n",
    "print(list)\n",
    "sliced_list = list[:-4]\n",
    "print(list)\n",
    "print(sliced_list)\n",
    "listrev = list.reverse()\n",
    "print(listrev)"
   ]
  },
  {
   "cell_type": "markdown",
   "metadata": {},
   "source": [
    "# ARITHAMTIC OPERATION"
   ]
  },
  {
   "cell_type": "code",
   "execution_count": 4,
   "metadata": {
    "scrolled": true
   },
   "outputs": [
    {
     "data": {
      "text/plain": [
       "4"
      ]
     },
     "execution_count": 4,
     "metadata": {},
     "output_type": "execute_result"
    }
   ],
   "source": [
    "#ADDITION\n",
    "2+2"
   ]
  },
  {
   "cell_type": "code",
   "execution_count": 5,
   "metadata": {},
   "outputs": [
    {
     "data": {
      "text/plain": [
       "4"
      ]
     },
     "execution_count": 5,
     "metadata": {},
     "output_type": "execute_result"
    }
   ],
   "source": [
    "#MULTIPLICATION\n",
    "2*2"
   ]
  },
  {
   "cell_type": "code",
   "execution_count": 6,
   "metadata": {},
   "outputs": [
    {
     "data": {
      "text/plain": [
       "1.0"
      ]
     },
     "execution_count": 6,
     "metadata": {},
     "output_type": "execute_result"
    }
   ],
   "source": [
    "#DIVISION\n",
    "2/2"
   ]
  },
  {
   "cell_type": "code",
   "execution_count": 7,
   "metadata": {},
   "outputs": [
    {
     "data": {
      "text/plain": [
       "1"
      ]
     },
     "execution_count": 7,
     "metadata": {},
     "output_type": "execute_result"
    }
   ],
   "source": [
    "#FLOOR DIVISION\n",
    "2//2"
   ]
  },
  {
   "cell_type": "code",
   "execution_count": 101,
   "metadata": {},
   "outputs": [
    {
     "name": "stdout",
     "output_type": "stream",
     "text": [
      "0 0.20000000000000018\n"
     ]
    }
   ],
   "source": [
    "x = s%s\n",
    "y = 2.2%1\n",
    "print(x,y)"
   ]
  },
  {
   "cell_type": "code",
   "execution_count": 8,
   "metadata": {},
   "outputs": [
    {
     "name": "stdout",
     "output_type": "stream",
     "text": [
      "24\n"
     ]
    }
   ],
   "source": [
    "x = \\\n",
    "1+2 \\\n",
    "+5+6\\\n",
    "+10\n",
    "print(x)"
   ]
  },
  {
   "cell_type": "markdown",
   "metadata": {},
   "source": [
    "notice that the indentation matters"
   ]
  },
  {
   "cell_type": "code",
   "execution_count": 11,
   "metadata": {},
   "outputs": [
    {
     "ename": "SyntaxError",
     "evalue": "unexpected character after line continuation character (<ipython-input-11-f03ca9dc15cc>, line 1)",
     "output_type": "error",
     "traceback": [
      "\u001b[1;36m  File \u001b[1;32m\"<ipython-input-11-f03ca9dc15cc>\"\u001b[1;36m, line \u001b[1;32m1\u001b[0m\n\u001b[1;33m    x = \\1+5++10\u001b[0m\n\u001b[1;37m                ^\u001b[0m\n\u001b[1;31mSyntaxError\u001b[0m\u001b[1;31m:\u001b[0m unexpected character after line continuation character\n"
     ]
    }
   ],
   "source": [
    "x = \\1+5++10\n",
    "print(x)#look just by defining the code we can run the system"
   ]
  },
  {
   "cell_type": "code",
   "execution_count": 12,
   "metadata": {},
   "outputs": [
    {
     "name": "stdout",
     "output_type": "stream",
     "text": [
      "True\n"
     ]
    }
   ],
   "source": [
    "x = 10\n",
    "flag =(x == 10) and (x<12) #this will help you debugging\n",
    "print(flag)"
   ]
  },
  {
   "cell_type": "markdown",
   "metadata": {},
   "source": [
    "# The all of the Fame code for the indentation code and the logical application"
   ]
  },
  {
   "cell_type": "code",
   "execution_count": 13,
   "metadata": {},
   "outputs": [
    {
     "name": "stdout",
     "output_type": "stream",
     "text": [
      "2\n"
     ]
    }
   ],
   "source": [
    "a =1;\n",
    "b =2\n",
    "x = (a and b)\n",
    "print(x)"
   ]
  },
  {
   "cell_type": "code",
   "execution_count": 14,
   "metadata": {},
   "outputs": [],
   "source": [
    "a =1;\n",
    "b =2\n",
    "x = (a and b)\n",
    "#print(x)"
   ]
  },
  {
   "cell_type": "code",
   "execution_count": 15,
   "metadata": {},
   "outputs": [
    {
     "name": "stdout",
     "output_type": "stream",
     "text": [
      "10\n"
     ]
    }
   ],
   "source": [
    "a =10\n",
    "b =10\n",
    "y = (a or b)\n",
    "print(y)"
   ]
  },
  {
   "cell_type": "markdown",
   "metadata": {},
   "source": [
    "# the math library module being defined"
   ]
  },
  {
   "cell_type": "code",
   "execution_count": 16,
   "metadata": {},
   "outputs": [
    {
     "data": {
      "text/plain": [
       "2.4000000000000004"
      ]
     },
     "execution_count": 16,
     "metadata": {},
     "output_type": "execute_result"
    }
   ],
   "source": [
    "import math\n",
    "math.sqrt(4)\n",
    "\n",
    "sum([1,.1,.3,.4,.6])"
   ]
  },
  {
   "cell_type": "code",
   "execution_count": 17,
   "metadata": {},
   "outputs": [
    {
     "data": {
      "text/plain": [
       "2.4000000000000004"
      ]
     },
     "execution_count": 17,
     "metadata": {},
     "output_type": "execute_result"
    }
   ],
   "source": [
    "sum([1,.1,.3,.4,.6])"
   ]
  },
  {
   "cell_type": "code",
   "execution_count": 18,
   "metadata": {},
   "outputs": [
    {
     "ename": "TypeError",
     "evalue": "must be real number, not list",
     "output_type": "error",
     "traceback": [
      "\u001b[1;31m---------------------------------------------------------------------------\u001b[0m",
      "\u001b[1;31mTypeError\u001b[0m                                 Traceback (most recent call last)",
      "\u001b[1;32m<ipython-input-18-89ec6ba3e83c>\u001b[0m in \u001b[0;36m<module>\u001b[1;34m\u001b[0m\n\u001b[0;32m      1\u001b[0m \u001b[1;31m#return the accurate floating point integer\u001b[0m\u001b[1;33m\u001b[0m\u001b[1;33m\u001b[0m\u001b[1;33m\u001b[0m\u001b[0m\n\u001b[0;32m      2\u001b[0m \u001b[0mmath\u001b[0m\u001b[1;33m.\u001b[0m\u001b[0mfsum\u001b[0m\u001b[1;33m(\u001b[0m\u001b[1;33m[\u001b[0m\u001b[1;36m.1\u001b[0m\u001b[1;33m,\u001b[0m \u001b[1;36m.1\u001b[0m\u001b[1;33m,\u001b[0m \u001b[1;36m.1\u001b[0m\u001b[1;33m,\u001b[0m \u001b[1;36m.1\u001b[0m\u001b[1;33m,\u001b[0m \u001b[1;36m.1\u001b[0m\u001b[1;33m,\u001b[0m \u001b[1;36m.1\u001b[0m\u001b[1;33m,\u001b[0m \u001b[1;36m.1\u001b[0m\u001b[1;33m,\u001b[0m \u001b[1;36m.1\u001b[0m\u001b[1;33m,\u001b[0m \u001b[1;36m.1\u001b[0m\u001b[1;33m,\u001b[0m \u001b[1;36m.1\u001b[0m\u001b[1;33m]\u001b[0m\u001b[1;33m)\u001b[0m\u001b[1;33m\u001b[0m\u001b[1;33m\u001b[0m\u001b[0m\n\u001b[1;32m----> 3\u001b[1;33m \u001b[0mmath\u001b[0m\u001b[1;33m.\u001b[0m\u001b[0mfrexp\u001b[0m\u001b[1;33m(\u001b[0m\u001b[1;33m[\u001b[0m\u001b[1;36m.2\u001b[0m\u001b[1;33m,\u001b[0m\u001b[1;36m.2\u001b[0m\u001b[1;33m,\u001b[0m\u001b[1;36m.2\u001b[0m\u001b[1;33m,\u001b[0m\u001b[1;36m.2\u001b[0m\u001b[1;33m,\u001b[0m\u001b[1;36m2.2\u001b[0m\u001b[1;33m,\u001b[0m\u001b[1;36m.2\u001b[0m\u001b[1;33m,\u001b[0m\u001b[1;36m.2\u001b[0m\u001b[1;33m,\u001b[0m\u001b[1;36m.2\u001b[0m\u001b[1;33m,\u001b[0m\u001b[1;36m.2\u001b[0m\u001b[1;33m,\u001b[0m\u001b[1;36m.2\u001b[0m\u001b[1;33m]\u001b[0m\u001b[1;33m)\u001b[0m\u001b[1;33m\u001b[0m\u001b[1;33m\u001b[0m\u001b[0m\n\u001b[0m",
      "\u001b[1;31mTypeError\u001b[0m: must be real number, not list"
     ]
    }
   ],
   "source": [
    "#return the accurate floating point integer\n",
    "math.fsum([.1, .1, .1, .1, .1, .1, .1, .1, .1, .1])\n",
    "math.frexp([.2,.2,.2,.2,2.2,.2,.2,.2,.2,.2])"
   ]
  },
  {
   "cell_type": "code",
   "execution_count": 19,
   "metadata": {},
   "outputs": [
    {
     "data": {
      "text/plain": [
       "1.00001000005"
      ]
     },
     "execution_count": 19,
     "metadata": {},
     "output_type": "execute_result"
    }
   ],
   "source": [
    "from math import exp\n",
    "exp(1e-5)"
   ]
  },
  {
   "cell_type": "markdown",
   "metadata": {},
   "source": [
    "# the print function code "
   ]
  },
  {
   "cell_type": "code",
   "execution_count": 20,
   "metadata": {},
   "outputs": [
    {
     "name": "stdout",
     "output_type": "stream",
     "text": [
      "True\n",
      "True\n",
      "3\n",
      "0\n",
      "2\n",
      "False\n",
      "False\n",
      "True\n",
      "3\n",
      "0\n"
     ]
    }
   ],
   "source": [
    "#python program to get th data in the real time lets have some handson\n",
    "print (False == 0)\n",
    "print (True == 1)\n",
    "\n",
    "print (True + True + True)\n",
    "print (False + False + False)\n",
    "print (False + True + False + True + False)\n",
    "print( False == 1)\n",
    "print ( True  == 0)\n",
    "print(True)\n",
    "print(True + True + True)\n",
    "print( False + False + False)"
   ]
  },
  {
   "cell_type": "code",
   "execution_count": 21,
   "metadata": {},
   "outputs": [
    {
     "name": "stdout",
     "output_type": "stream",
     "text": [
      "10\n",
      "19\n",
      "3.3333333333333335\n"
     ]
    }
   ],
   "source": [
    "a =10 ;b =19 ; c =a/3 ; d =b//10\n",
    "print(a);print(b);print(c) #the outpur cant be definedd"
   ]
  },
  {
   "cell_type": "markdown",
   "metadata": {},
   "source": [
    "# WE STILL HAVE TO LEARN ON THE ARRAY"
   ]
  },
  {
   "cell_type": "code",
   "execution_count": 22,
   "metadata": {},
   "outputs": [
    {
     "name": "stdout",
     "output_type": "stream",
     "text": [
      "True\n"
     ]
    }
   ],
   "source": [
    "x =[1,2,3]\n",
    "y =2\n",
    "a = y in x #the in function is being defined in here\n",
    "print(a)"
   ]
  },
  {
   "cell_type": "code",
   "execution_count": 23,
   "metadata": {},
   "outputs": [
    {
     "name": "stdout",
     "output_type": "stream",
     "text": [
      "[[1, 2, 3], [4, 5, 6], [7, 8, 9]]\n"
     ]
    }
   ],
   "source": [
    "A = [\n",
    "    [1,2,3],\n",
    "    [4,5,6],\n",
    "    [7,8,9]\n",
    "]\n",
    "print(A)"
   ]
  },
  {
   "cell_type": "code",
   "execution_count": 24,
   "metadata": {},
   "outputs": [
    {
     "name": "stdout",
     "output_type": "stream",
     "text": [
      "True\n"
     ]
    }
   ],
   "source": [
    "A = [\n",
    "    [1,2,3],\n",
    "    [4,5,6],\n",
    "    [7,8,9]\n",
    "]\n",
    "print(a)"
   ]
  },
  {
   "cell_type": "markdown",
   "metadata": {},
   "source": [
    "any in the print"
   ]
  },
  {
   "cell_type": "code",
   "execution_count": 11,
   "metadata": {},
   "outputs": [
    {
     "name": "stdout",
     "output_type": "stream",
     "text": [
      "True\n",
      "True\n"
     ]
    }
   ],
   "source": [
    "print(any([False,True,False,False]))\n",
    "print(any([False,True,True,False]))"
   ]
  },
  {
   "cell_type": "markdown",
   "metadata": {},
   "source": [
    "all in the print"
   ]
  },
  {
   "cell_type": "code",
   "execution_count": 9,
   "metadata": {},
   "outputs": [
    {
     "name": "stdout",
     "output_type": "stream",
     "text": [
      "True\n",
      "False\n",
      "False\n"
     ]
    }
   ],
   "source": [
    "print(all([True,True,True,True]))\n",
    "print(all([False,False,False,True]))\n",
    "print(all([False,True,True,False]))\n"
   ]
  },
  {
   "cell_type": "markdown",
   "metadata": {},
   "source": [
    "# The ouput that all the console will be giving is for the analysis of the application of the code so as to have the sessions going on."
   ]
  },
  {
   "cell_type": "code",
   "execution_count": 25,
   "metadata": {},
   "outputs": [
    {
     "name": "stdout",
     "output_type": "stream",
     "text": [
      "value of the using the nonlinear combined aspects:10\n"
     ]
    }
   ],
   "source": [
    "#her we will define the value of the functin after the variable definition\n",
    "print(\"value of the using the nonlinear combined aspects:\" ,end =\"\")\n",
    "def outer():\n",
    "    a =5\n",
    "    def inner():\n",
    "        nonlocal a #nonlocal will be the keyword its appllicable in the kernel as the task goes on\n",
    "        a =10\n",
    "    inner()\n",
    "    print(a)\n",
    "outer()#here we intend to fake the value"
   ]
  },
  {
   "cell_type": "code",
   "execution_count": 26,
   "metadata": {},
   "outputs": [
    {
     "name": "stdout",
     "output_type": "stream",
     "text": [
      "False\n",
      "True\n",
      "True\n",
      "False\n",
      "True\n",
      "False\n"
     ]
    }
   ],
   "source": [
    "print (None == 0) #the none is being defined\n",
    "x = None #the data to be handled is taken care here\n",
    "y = None\n",
    "print (x == y)\n",
    "print (True  or False)\n",
    "print(False and True)\n",
    "print(not False)\n",
    "print(not(True or False))"
   ]
  },
  {
   "cell_type": "markdown",
   "metadata": {},
   "source": [
    "# see the magic of the del function"
   ]
  },
  {
   "cell_type": "code",
   "execution_count": 27,
   "metadata": {},
   "outputs": [
    {
     "name": "stdout",
     "output_type": "stream",
     "text": [
      "let me love!dont you give up\n",
      "[1, 2, 4, 5, 6, 7, 8, 9, 10]\n",
      "[1, 4, 5, 6, 7, 8, 9, 10]\n",
      "[1, 4, 5, 6, 8, 9, 10]\n"
     ]
    },
    {
     "ename": "AssertionError",
     "evalue": "5 is the greates",
     "output_type": "error",
     "traceback": [
      "\u001b[1;31m---------------------------------------------------------------------------\u001b[0m",
      "\u001b[1;31mAssertionError\u001b[0m                            Traceback (most recent call last)",
      "\u001b[1;32m<ipython-input-27-171964587f6b>\u001b[0m in \u001b[0;36m<module>\u001b[1;34m\u001b[0m\n\u001b[0;32m      8\u001b[0m \u001b[1;32mdel\u001b[0m \u001b[0ma\u001b[0m\u001b[1;33m[\u001b[0m\u001b[1;36m4\u001b[0m\u001b[1;33m]\u001b[0m\u001b[1;33m\u001b[0m\u001b[1;33m\u001b[0m\u001b[0m\n\u001b[0;32m      9\u001b[0m \u001b[0mprint\u001b[0m\u001b[1;33m(\u001b[0m\u001b[0ma\u001b[0m\u001b[1;33m)\u001b[0m\u001b[1;33m\u001b[0m\u001b[1;33m\u001b[0m\u001b[0m\n\u001b[1;32m---> 10\u001b[1;33m \u001b[1;32massert\u001b[0m \u001b[1;36m5\u001b[0m\u001b[1;33m<\u001b[0m\u001b[1;36m3\u001b[0m\u001b[1;33m,\u001b[0m\u001b[1;34m\"5 is the greates\"\u001b[0m\u001b[1;33m\u001b[0m\u001b[1;33m\u001b[0m\u001b[0m\n\u001b[0m",
      "\u001b[1;31mAssertionError\u001b[0m: 5 is the greates"
     ]
    }
   ],
   "source": [
    "#the deletion operator will also help you in the Software Debugging part\n",
    "a = [1,2,3,4,5,6,7,8,9,10]\n",
    "print(\"let me love!dont you give up\")\n",
    "del a[2]\n",
    "print(a)\n",
    "del a[1]\n",
    "print(a)\n",
    "del a[4]\n",
    "print(a)\n",
    "assert 5<3,\"5 is the greates\""
   ]
  },
  {
   "cell_type": "code",
   "execution_count": 28,
   "metadata": {},
   "outputs": [
    {
     "name": "stdout",
     "output_type": "stream",
     "text": [
      "let me love!dont you give up\n",
      "[1, 2, 4, 5, 6, 7, 8, 9, 10]\n",
      "[1, 4, 5, 6, 7, 8, 9, 10]\n"
     ]
    },
    {
     "ename": "IndexError",
     "evalue": "list assignment index out of range",
     "output_type": "error",
     "traceback": [
      "\u001b[1;31m---------------------------------------------------------------------------\u001b[0m",
      "\u001b[1;31mIndexError\u001b[0m                                Traceback (most recent call last)",
      "\u001b[1;32m<ipython-input-28-a5d20f76a08f>\u001b[0m in \u001b[0;36m<module>\u001b[1;34m\u001b[0m\n\u001b[0;32m      6\u001b[0m \u001b[1;32mdel\u001b[0m \u001b[0ma\u001b[0m\u001b[1;33m[\u001b[0m\u001b[1;36m1\u001b[0m\u001b[1;33m]\u001b[0m\u001b[1;33m\u001b[0m\u001b[1;33m\u001b[0m\u001b[0m\n\u001b[0;32m      7\u001b[0m \u001b[0mprint\u001b[0m\u001b[1;33m(\u001b[0m\u001b[0ma\u001b[0m\u001b[1;33m)\u001b[0m\u001b[1;33m\u001b[0m\u001b[1;33m\u001b[0m\u001b[0m\n\u001b[1;32m----> 8\u001b[1;33m \u001b[1;32mdel\u001b[0m \u001b[0ma\u001b[0m\u001b[1;33m[\u001b[0m\u001b[1;36m9\u001b[0m\u001b[1;33m]\u001b[0m\u001b[1;33m\u001b[0m\u001b[1;33m\u001b[0m\u001b[0m\n\u001b[0m\u001b[0;32m      9\u001b[0m \u001b[0mprint\u001b[0m\u001b[1;33m(\u001b[0m\u001b[0ma\u001b[0m\u001b[1;33m)\u001b[0m\u001b[1;33m\u001b[0m\u001b[1;33m\u001b[0m\u001b[0m\n",
      "\u001b[1;31mIndexError\u001b[0m: list assignment index out of range"
     ]
    }
   ],
   "source": [
    "#the deletion operator will also help you in the Software Debugging part\n",
    "a = [1,2,3,4,5,6,7,8,9,10]\n",
    "print(\"let me love!dont you give up\")\n",
    "del a[2]\n",
    "print(a)\n",
    "del a[1]\n",
    "print(a)\n",
    "del a[9]\n",
    "print(a)"
   ]
  },
  {
   "cell_type": "code",
   "execution_count": 29,
   "metadata": {},
   "outputs": [
    {
     "name": "stdout",
     "output_type": "stream",
     "text": [
      "let me love!dont you give up\n",
      "[1, 2, 4, 5, 6, 7, 8, 9, 10]\n",
      "[1, 4, 5, 6, 7, 8, 9, 10]\n",
      "[1, 4, 5, 6, 8, 9, 10]\n"
     ]
    },
    {
     "ename": "AssertionError",
     "evalue": "5 is the greates",
     "output_type": "error",
     "traceback": [
      "\u001b[1;31m---------------------------------------------------------------------------\u001b[0m",
      "\u001b[1;31mAssertionError\u001b[0m                            Traceback (most recent call last)",
      "\u001b[1;32m<ipython-input-29-171964587f6b>\u001b[0m in \u001b[0;36m<module>\u001b[1;34m\u001b[0m\n\u001b[0;32m      8\u001b[0m \u001b[1;32mdel\u001b[0m \u001b[0ma\u001b[0m\u001b[1;33m[\u001b[0m\u001b[1;36m4\u001b[0m\u001b[1;33m]\u001b[0m\u001b[1;33m\u001b[0m\u001b[1;33m\u001b[0m\u001b[0m\n\u001b[0;32m      9\u001b[0m \u001b[0mprint\u001b[0m\u001b[1;33m(\u001b[0m\u001b[0ma\u001b[0m\u001b[1;33m)\u001b[0m\u001b[1;33m\u001b[0m\u001b[1;33m\u001b[0m\u001b[0m\n\u001b[1;32m---> 10\u001b[1;33m \u001b[1;32massert\u001b[0m \u001b[1;36m5\u001b[0m\u001b[1;33m<\u001b[0m\u001b[1;36m3\u001b[0m\u001b[1;33m,\u001b[0m\u001b[1;34m\"5 is the greates\"\u001b[0m\u001b[1;33m\u001b[0m\u001b[1;33m\u001b[0m\u001b[0m\n\u001b[0m",
      "\u001b[1;31mAssertionError\u001b[0m: 5 is the greates"
     ]
    }
   ],
   "source": [
    "#the deletion operator will also help you in the Software Debugging part\n",
    "a = [1,2,3,4,5,6,7,8,9,10]\n",
    "print(\"let me love!dont you give up\")\n",
    "del a[2]\n",
    "print(a)\n",
    "del a[1]\n",
    "print(a)\n",
    "del a[4]\n",
    "print(a)\n",
    "assert 5<3,\"5 is the greates\""
   ]
  },
  {
   "cell_type": "markdown",
   "metadata": {},
   "source": [
    "# NOW THE HELL FROM THE COMPILER ASSERT THE FIRE BLAZE"
   ]
  },
  {
   "cell_type": "code",
   "execution_count": 30,
   "metadata": {},
   "outputs": [
    {
     "ename": "AssertionError",
     "evalue": "5 is the best",
     "output_type": "error",
     "traceback": [
      "\u001b[1;31m---------------------------------------------------------------------------\u001b[0m",
      "\u001b[1;31mAssertionError\u001b[0m                            Traceback (most recent call last)",
      "\u001b[1;32m<ipython-input-30-db498469db33>\u001b[0m in \u001b[0;36m<module>\u001b[1;34m\u001b[0m\n\u001b[1;32m----> 1\u001b[1;33m \u001b[1;32massert\u001b[0m \u001b[1;36m5\u001b[0m\u001b[1;33m<\u001b[0m\u001b[1;36m3\u001b[0m\u001b[1;33m,\u001b[0m\u001b[1;34m\"5 is the best\"\u001b[0m\u001b[1;33m\u001b[0m\u001b[1;33m\u001b[0m\u001b[0m\n\u001b[0m",
      "\u001b[1;31mAssertionError\u001b[0m: 5 is the best"
     ]
    }
   ],
   "source": [
    "assert 5<3,\"5 is the best\""
   ]
  },
  {
   "cell_type": "markdown",
   "metadata": {},
   "source": [
    "# THE IF AND THE ELSE STATMENTS"
   ]
  },
  {
   "cell_type": "code",
   "execution_count": 31,
   "metadata": {},
   "outputs": [
    {
     "name": "stdout",
     "output_type": "stream",
     "text": [
      "s is present\n"
     ]
    }
   ],
   "source": [
    "#the use of the if else statement will be done in here\n",
    "if 's' in 'best':\n",
    "    print(\"s is present\")\n",
    "else:print(\"s is not present\")    "
   ]
  },
  {
   "cell_type": "code",
   "execution_count": 32,
   "metadata": {},
   "outputs": [
    {
     "name": "stdout",
     "output_type": "stream",
     "text": [
      "s is present\n",
      "stupidity\r\n"
     ]
    }
   ],
   "source": [
    "if 's' in 'best':\n",
    "    print(\"s is present\")\n",
    "else:print(\"s is not present\")\n",
    "    \n",
    "for i in 'stupidity':\n",
    "    print(i,end = '')\n",
    "print(\"\\r\")\n",
    "    \n",
    "    "
   ]
  },
  {
   "cell_type": "code",
   "execution_count": 33,
   "metadata": {},
   "outputs": [
    {
     "name": "stdout",
     "output_type": "stream",
     "text": [
      "s is present\n",
      "yyyyyyyyy\r\n"
     ]
    }
   ],
   "source": [
    "if 's' in 'best':\n",
    "    print(\"s is present\")\n",
    "else:print(\"s is not present\")\n",
    "    \n",
    "for j in 'stupidity':\n",
    "    print(i,end = '')\n",
    "print(\"\\r\")\n",
    "    \n",
    "    "
   ]
  },
  {
   "cell_type": "code",
   "execution_count": 34,
   "metadata": {},
   "outputs": [
    {
     "name": "stdout",
     "output_type": "stream",
     "text": [
      "s is present\n",
      "stupidity\r\n"
     ]
    }
   ],
   "source": [
    "if 's' in 'best':\n",
    "    print(\"s is present\")\n",
    "else:print(\"s is not present\")\n",
    "    #look at the diffrences that we will be seeing here in the code\n",
    "for i in 'stupidity':\n",
    "    print(i,end = '')\n",
    "print(\"\\r\") #here we can also study byte stuffing"
   ]
  },
  {
   "cell_type": "code",
   "execution_count": 37,
   "metadata": {},
   "outputs": [
    {
     "name": "stdout",
     "output_type": "stream",
     "text": [
      "s is present\n",
      "stupidity"
     ]
    }
   ],
   "source": [
    "if 's' in 'best':\n",
    "    print(\"s is present\")\n",
    "else:print(\"s is not present\")\n",
    "    #look at the diffrences that we will be seeing here in the code\n",
    "for i in 'stupidity':\n",
    "    print(i,end = '')\n",
    "#print(\"\\r\") #here we can also study byte stuffing"
   ]
  },
  {
   "cell_type": "code",
   "execution_count": 38,
   "metadata": {},
   "outputs": [
    {
     "name": "stdout",
     "output_type": "stream",
     "text": [
      "you are awesome\n"
     ]
    }
   ],
   "source": [
    "person1  = 1\n",
    "person2  = 2\n",
    "person3  = 4\n",
    "if(\n",
    "person1 ==1 and\n",
    "person2 ==2 and (person3 != 10)): #even though we have the keyword not we still can get the leverage of the code done from the typucal c syntaxes\n",
    "    print(\"you are awesome\")"
   ]
  },
  {
   "cell_type": "code",
   "execution_count": 39,
   "metadata": {},
   "outputs": [
    {
     "name": "stdout",
     "output_type": "stream",
     "text": [
      "i am the wonderwomens husband\n"
     ]
    }
   ],
   "source": [
    "i =10\n",
    "if(i<12):\n",
    "    print(\"i am the wonderwomens husband\")"
   ]
  },
  {
   "cell_type": "code",
   "execution_count": 40,
   "metadata": {},
   "outputs": [
    {
     "name": "stdout",
     "output_type": "stream",
     "text": [
      "no validity\n"
     ]
    }
   ],
   "source": [
    "i =10\n",
    "if(i>12):\n",
    "    print(\"i am the wonderwomens husband\")\n",
    "print(\"no validity\")"
   ]
  },
  {
   "cell_type": "code",
   "execution_count": 41,
   "metadata": {},
   "outputs": [
    {
     "ename": "AssertionError",
     "evalue": "this is not maths",
     "output_type": "error",
     "traceback": [
      "\u001b[1;31m---------------------------------------------------------------------------\u001b[0m",
      "\u001b[1;31mAssertionError\u001b[0m                            Traceback (most recent call last)",
      "\u001b[1;32m<ipython-input-41-90d6d46f09a4>\u001b[0m in \u001b[0;36m<module>\u001b[1;34m\u001b[0m\n\u001b[0;32m      2\u001b[0m \u001b[1;32mif\u001b[0m\u001b[1;33m(\u001b[0m\u001b[0mi\u001b[0m\u001b[1;33m>\u001b[0m\u001b[1;36m12\u001b[0m\u001b[1;33m)\u001b[0m\u001b[1;33m:\u001b[0m\u001b[1;33m\u001b[0m\u001b[1;33m\u001b[0m\u001b[0m\n\u001b[0;32m      3\u001b[0m     \u001b[0mprint\u001b[0m\u001b[1;33m(\u001b[0m\u001b[1;34m\"i am the wonderwomens husband\"\u001b[0m\u001b[1;33m)\u001b[0m\u001b[1;33m\u001b[0m\u001b[1;33m\u001b[0m\u001b[0m\n\u001b[1;32m----> 4\u001b[1;33m \u001b[1;32massert\u001b[0m \u001b[1;36m2\u001b[0m\u001b[1;33m>\u001b[0m\u001b[1;36m3\u001b[0m\u001b[1;33m,\u001b[0m\u001b[1;34m\"this is not maths\"\u001b[0m\u001b[1;33m\u001b[0m\u001b[1;33m\u001b[0m\u001b[0m\n\u001b[0m",
      "\u001b[1;31mAssertionError\u001b[0m: this is not maths"
     ]
    }
   ],
   "source": [
    "i =10\n",
    "if(i>12):\n",
    "    print(\"i am the wonderwomens husband\")\n",
    "assert 2>3,\"this is not maths\""
   ]
  },
  {
   "cell_type": "code",
   "execution_count": 42,
   "metadata": {},
   "outputs": [
    {
     "ename": "SyntaxError",
     "evalue": "invalid syntax (<ipython-input-42-8299f323b4ca>, line 4)",
     "output_type": "error",
     "traceback": [
      "\u001b[1;36m  File \u001b[1;32m\"<ipython-input-42-8299f323b4ca>\"\u001b[1;36m, line \u001b[1;32m4\u001b[0m\n\u001b[1;33m    assert 2>3:\"this is not maths\"\u001b[0m\n\u001b[1;37m              ^\u001b[0m\n\u001b[1;31mSyntaxError\u001b[0m\u001b[1;31m:\u001b[0m invalid syntax\n"
     ]
    }
   ],
   "source": [
    "i =10\n",
    "if(i>12):\n",
    "    print(\"i am the wonderwomens husband\")\n",
    "assert 2>3:\"this is not maths\""
   ]
  },
  {
   "cell_type": "code",
   "execution_count": 43,
   "metadata": {},
   "outputs": [
    {
     "name": "stdout",
     "output_type": "stream",
     "text": [
      "this  may corrupt i have no decissions made use if the else if ladder\n"
     ]
    }
   ],
   "source": [
    "i = 20\n",
    "if(i<15):\n",
    "    print(\"this is not true\")\n",
    "else:\n",
    "    print(\"this  may corrupt i have no decissions made use if the else if ladder\")"
   ]
  },
  {
   "cell_type": "markdown",
   "metadata": {},
   "source": [
    "# the elif function call defined as the best"
   ]
  },
  {
   "cell_type": "code",
   "execution_count": 44,
   "metadata": {},
   "outputs": [
    {
     "name": "stdout",
     "output_type": "stream",
     "text": [
      "no other options\n"
     ]
    }
   ],
   "source": [
    "i = 20\n",
    "if( i == 10):\n",
    "    print(\"no\")\n",
    "elif( i == 15):\n",
    "    print(\"nooooo\")\n",
    "    pass\n",
    "else:\n",
    "    print(\"no other options\")"
   ]
  },
  {
   "cell_type": "code",
   "execution_count": 45,
   "metadata": {},
   "outputs": [
    {
     "ename": "SyntaxError",
     "evalue": "EOF while scanning triple-quoted string literal (<ipython-input-45-48f74618b1cb>, line 8)",
     "output_type": "error",
     "traceback": [
      "\u001b[1;36m  File \u001b[1;32m\"<ipython-input-45-48f74618b1cb>\"\u001b[1;36m, line \u001b[1;32m8\u001b[0m\n\u001b[1;33m    print(\"no other options\")\"\"\"\"\"\"\u001b[0m\n\u001b[1;37m                                   \n^\u001b[0m\n\u001b[1;31mSyntaxError\u001b[0m\u001b[1;31m:\u001b[0m EOF while scanning triple-quoted string literal\n"
     ]
    }
   ],
   "source": [
    "i = 20\n",
    "if( i == 10):\n",
    "    print(\"no\")\n",
    "elif( i == 15):\n",
    "    print(\"nooooo\")\n",
    "    pass\n",
    "\"\"\"else:\n",
    "    print(\"no other options\")\"\"\"\"\"\""
   ]
  },
  {
   "cell_type": "code",
   "execution_count": null,
   "metadata": {},
   "outputs": [],
   "source": [
    "num1 = a\n",
    "num2 = b\n",
    "def add(a,b):\n",
    "    return a+b\n",
    "def div(a,b):\n",
    "    return a/b\n",
    "def mul(a,b):\n",
    "    return a*b\n",
    "def sub(a,b):\n",
    "    return a-b\n",
    "select = input(print(\"the selection of the vale using the weights\"))\n",
    "\n",
    "    "
   ]
  },
  {
   "cell_type": "code",
   "execution_count": 51,
   "metadata": {},
   "outputs": [
    {
     "name": "stdout",
     "output_type": "stream",
     "text": [
      "1 2 3 4\n"
     ]
    }
   ],
   "source": [
    "def func(a,b,c,d):\n",
    "    print(a,b,c,d)\n",
    "mylist = [1,2,3,4]\n",
    "func(*mylist)"
   ]
  },
  {
   "cell_type": "code",
   "execution_count": 55,
   "metadata": {},
   "outputs": [
    {
     "name": "stdout",
     "output_type": "stream",
     "text": [
      "15\n",
      "25\n"
     ]
    }
   ],
   "source": [
    "def sum1(*args):\n",
    "    sum =0 \n",
    "    for i in range(0,len(args)):\n",
    "        sum = sum+args[i]\n",
    "    return sum\n",
    "print(sum1(1,2,3,4,5))\n",
    "print(sum1(12,13))"
   ]
  },
  {
   "cell_type": "code",
   "execution_count": 54,
   "metadata": {},
   "outputs": [
    {
     "name": "stdout",
     "output_type": "stream",
     "text": [
      "15\n",
      "25\n"
     ]
    },
    {
     "ename": "TypeError",
     "evalue": "print() argument after * must be an iterable, not int",
     "output_type": "error",
     "traceback": [
      "\u001b[1;31m---------------------------------------------------------------------------\u001b[0m",
      "\u001b[1;31mTypeError\u001b[0m                                 Traceback (most recent call last)",
      "\u001b[1;32m<ipython-input-54-b88064257971>\u001b[0m in \u001b[0;36m<module>\u001b[1;34m\u001b[0m\n\u001b[0;32m      6\u001b[0m \u001b[0mprint\u001b[0m\u001b[1;33m(\u001b[0m\u001b[0msum1\u001b[0m\u001b[1;33m(\u001b[0m\u001b[1;36m1\u001b[0m\u001b[1;33m,\u001b[0m\u001b[1;36m2\u001b[0m\u001b[1;33m,\u001b[0m\u001b[1;36m3\u001b[0m\u001b[1;33m,\u001b[0m\u001b[1;36m4\u001b[0m\u001b[1;33m,\u001b[0m\u001b[1;36m5\u001b[0m\u001b[1;33m)\u001b[0m\u001b[1;33m)\u001b[0m\u001b[1;33m\u001b[0m\u001b[1;33m\u001b[0m\u001b[0m\n\u001b[0;32m      7\u001b[0m \u001b[0mprint\u001b[0m\u001b[1;33m(\u001b[0m\u001b[0msum1\u001b[0m\u001b[1;33m(\u001b[0m\u001b[1;36m12\u001b[0m\u001b[1;33m,\u001b[0m\u001b[1;36m13\u001b[0m\u001b[1;33m)\u001b[0m\u001b[1;33m)\u001b[0m\u001b[1;33m\u001b[0m\u001b[1;33m\u001b[0m\u001b[0m\n\u001b[1;32m----> 8\u001b[1;33m \u001b[0mprint\u001b[0m\u001b[1;33m(\u001b[0m\u001b[1;33m*\u001b[0m\u001b[0msum1\u001b[0m\u001b[1;33m(\u001b[0m\u001b[1;36m12\u001b[0m\u001b[1;33m,\u001b[0m\u001b[1;36m13\u001b[0m\u001b[1;33m)\u001b[0m\u001b[1;33m)\u001b[0m\u001b[1;33m\u001b[0m\u001b[1;33m\u001b[0m\u001b[0m\n\u001b[0m",
      "\u001b[1;31mTypeError\u001b[0m: print() argument after * must be an iterable, not int"
     ]
    }
   ],
   "source": [
    "def sum1(*args):\n",
    "    sum =0 \n",
    "    for i in range(0,len(args)):\n",
    "        sum = sum+args[i]\n",
    "    return sum\n",
    "print(sum1(1,2,3,4,5))\n",
    "print(sum1(12,13))\n",
    "print(*sum1(12,13))"
   ]
  },
  {
   "cell_type": "code",
   "execution_count": 46,
   "metadata": {},
   "outputs": [
    {
     "ename": "SyntaxError",
     "evalue": "invalid syntax (<ipython-input-46-8eed4bcf788a>, line 2)",
     "output_type": "error",
     "traceback": [
      "\u001b[1;36m  File \u001b[1;32m\"<ipython-input-46-8eed4bcf788a>\"\u001b[1;36m, line \u001b[1;32m2\u001b[0m\n\u001b[1;33m    print(\"the number first enterd\"x)\u001b[0m\n\u001b[1;37m                                   ^\u001b[0m\n\u001b[1;31mSyntaxError\u001b[0m\u001b[1;31m:\u001b[0m invalid syntax\n"
     ]
    }
   ],
   "source": [
    "x,y = input(\"enter the two numbers:   \").split() \n",
    "print(\"the number first enterd\"x)\n",
    "print(\"the number second enterd\"y)"
   ]
  },
  {
   "cell_type": "code",
   "execution_count": 47,
   "metadata": {},
   "outputs": [
    {
     "name": "stdout",
     "output_type": "stream",
     "text": [
      "enter the two numbers:   1 3\n",
      "the number first enterd:  1\n",
      "the number second enterd:  3\n"
     ]
    }
   ],
   "source": [
    "x,y = input(\"enter the two numbers:   \").split() \n",
    "print(\"the number first enterd: \",x)\n",
    "print(\"the number second enterd: \",y)"
   ]
  },
  {
   "cell_type": "markdown",
   "metadata": {},
   "source": [
    "# the function of the list can aso be done through this code"
   ]
  },
  {
   "cell_type": "code",
   "execution_count": 48,
   "metadata": {},
   "outputs": [
    {
     "name": "stdout",
     "output_type": "stream",
     "text": [
      "enter the multiple values1 2 3 4 5 6\n"
     ]
    }
   ],
   "source": [
    "x = list(map(int,input(\"enter the multiple values\").split()))\n"
   ]
  },
  {
   "cell_type": "code",
   "execution_count": 49,
   "metadata": {},
   "outputs": [
    {
     "name": "stdout",
     "output_type": "stream",
     "text": [
      "enter the multiple values1 2 3 4 5 6 7\n",
      "[1, 2, 3, 4, 5, 6, 7]\n"
     ]
    }
   ],
   "source": [
    "x = list(map(int,input(\"enter the multiple values\").split()))\n",
    "print(x)"
   ]
  },
  {
   "cell_type": "markdown",
   "metadata": {},
   "source": [
    "# The format keyword code can be written here"
   ]
  },
  {
   "cell_type": "code",
   "execution_count": 52,
   "metadata": {},
   "outputs": [
    {
     "name": "stdout",
     "output_type": "stream",
     "text": [
      "enter the variables value: 1 5\n"
     ]
    },
    {
     "ename": "AttributeError",
     "evalue": "'str' object has no attribute 'foramat'",
     "output_type": "error",
     "traceback": [
      "\u001b[1;31m---------------------------------------------------------------------------\u001b[0m",
      "\u001b[1;31mAttributeError\u001b[0m                            Traceback (most recent call last)",
      "\u001b[1;32m<ipython-input-52-77d1842a3734>\u001b[0m in \u001b[0;36m<module>\u001b[1;34m\u001b[0m\n\u001b[0;32m      1\u001b[0m \u001b[0ma\u001b[0m\u001b[1;33m,\u001b[0m\u001b[0mb\u001b[0m \u001b[1;33m=\u001b[0m \u001b[0minput\u001b[0m\u001b[1;33m(\u001b[0m\u001b[1;34m\"enter the variables value: \"\u001b[0m\u001b[1;33m)\u001b[0m\u001b[1;33m.\u001b[0m\u001b[0msplit\u001b[0m\u001b[1;33m(\u001b[0m\u001b[1;33m)\u001b[0m\u001b[1;33m\u001b[0m\u001b[1;33m\u001b[0m\u001b[0m\n\u001b[1;32m----> 2\u001b[1;33m \u001b[0mprint\u001b[0m\u001b[1;33m(\u001b[0m\u001b[1;34m\"frst number{} and second number{}\"\u001b[0m\u001b[1;33m.\u001b[0m\u001b[0mforamat\u001b[0m\u001b[1;33m(\u001b[0m\u001b[0ma\u001b[0m\u001b[1;33m,\u001b[0m\u001b[0mb\u001b[0m\u001b[1;33m)\u001b[0m\u001b[1;33m)\u001b[0m\u001b[1;33m\u001b[0m\u001b[1;33m\u001b[0m\u001b[0m\n\u001b[0m\u001b[0;32m      3\u001b[0m \u001b[0mprint\u001b[0m\u001b[1;33m(\u001b[0m\u001b[1;33m)\u001b[0m\u001b[1;33m\u001b[0m\u001b[1;33m\u001b[0m\u001b[0m\n",
      "\u001b[1;31mAttributeError\u001b[0m: 'str' object has no attribute 'foramat'"
     ]
    }
   ],
   "source": [
    "a , b = input(\"enter the variables value: \").split()\n",
    "print(\"frst number{} and second number{}\".foramat(a,b))\n",
    "print()"
   ]
  },
  {
   "cell_type": "markdown",
   "metadata": {},
   "source": [
    "# awesomeness DEFINED in the compiler"
   ]
  },
  {
   "cell_type": "code",
   "execution_count": null,
   "metadata": {},
   "outputs": [],
   "source": [
    "print(''is'')"
   ]
  },
  {
   "cell_type": "code",
   "execution_count": null,
   "metadata": {},
   "outputs": [],
   "source": [
    "print({}is{})"
   ]
  },
  {
   "cell_type": "markdown",
   "metadata": {},
   "source": [
    "# the way you call function matter"
   ]
  },
  {
   "cell_type": "code",
   "execution_count": null,
   "metadata": {},
   "outputs": [],
   "source": [
    "#just like the data structure stuff\n",
    "a = 10\n",
    "def read():\n",
    "    print(a)\n",
    "def mod1():\n",
    "    global a\n",
    "    a = 5\n",
    "def mod2():\n",
    "    a = 15\n",
    "#print(r\"\"read()\"+\"mod1()\"+\"mod2\"\")\n",
    "z = read()\n",
    "x = mod1()\n",
    "y = mod2()\n",
    "print(r\"'y'+'z'+'x'\")"
   ]
  },
  {
   "cell_type": "code",
   "execution_count": null,
   "metadata": {},
   "outputs": [],
   "source": [
    "#just like the data structure stuff\n",
    "a = 10\n",
    "def read():\n",
    "    print(a)\n",
    "def mod1():\n",
    "    global a\n",
    "    a = 5\n",
    "def mod2():\n",
    "    a = 15\n",
    "#print(r\"\"read()\"+\"mod1()\"+\"mod2\"\")\n",
    "x = mod1()\n",
    "z = read()\n",
    "y = mod2()\n",
    "print(r\"'y'+'z'+'x'\")"
   ]
  },
  {
   "cell_type": "code",
   "execution_count": null,
   "metadata": {},
   "outputs": [],
   "source": [
    "#just like the data structure stuff\n",
    "a = 10\n",
    "def read():\n",
    "    print(a)\n",
    "def mod1():\n",
    "    global a\n",
    "    a = 5\n",
    "def mod2():\n",
    "    a = 15\n",
    "#print(r\"\"read()\"+\"mod1()\"+\"mod2\"\")\n",
    "mod2()#notice the magic from the compiler\n",
    "mod1() \n",
    "read()"
   ]
  },
  {
   "cell_type": "markdown",
   "metadata": {},
   "source": [
    "# NAME SCOPE SPACE IN THE PYTHON KERNEL"
   ]
  },
  {
   "cell_type": "markdown",
   "metadata": {},
   "source": [
    "# EXAMPLE 1"
   ]
  },
  {
   "cell_type": "code",
   "execution_count": null,
   "metadata": {},
   "outputs": [],
   "source": [
    "var1 = 5\n",
    "def function_call():\n",
    "    var2 = 6\n",
    "    def cascade_function():\n",
    "        var3 =1\n",
    "        pass\n",
    "    pass\n",
    "pass\n",
    "count = 5\n",
    "def its_here():\n",
    "    global count\n",
    "    count += count\n",
    "    print(count)\n",
    "its_here()"
   ]
  },
  {
   "cell_type": "code",
   "execution_count": null,
   "metadata": {},
   "outputs": [],
   "source": [
    "count = 5\n",
    "def its_here():\n",
    "    global count\n",
    "    count = count +1\n",
    "    print(count)\n",
    "its_here()"
   ]
  },
  {
   "cell_type": "code",
   "execution_count": null,
   "metadata": {},
   "outputs": [],
   "source": [
    "def some_one(var):\n",
    "    print(\"you loved me idiot so you broke up with me this many time\",var)\n",
    "    print(var,\"times \"+\"oh my god is it\")\n",
    "some_one(4)"
   ]
  },
  {
   "cell_type": "code",
   "execution_count": null,
   "metadata": {},
   "outputs": [],
   "source": [
    "def some_one_else():\n",
    "    print(\"inside my heart\")\n",
    "    var1 = input(\"you are the password to my heart\")\n",
    "    def _inside_my_heart_():\n",
    "        var = 10\n",
    "        print(\"inside the functional heart ,value you are the password to my heart i love you python:\",var1,var)\n",
    "        pass\n",
    "    \n",
    "    pass\n",
    "\n",
    "    \n",
    "some_one_else()\n",
    "_inside_my_heart_()\n",
    "    \n",
    "    \n",
    "    "
   ]
  },
  {
   "cell_type": "markdown",
   "metadata": {},
   "source": [
    "# The conditional statements in core"
   ]
  },
  {
   "cell_type": "code",
   "execution_count": null,
   "metadata": {},
   "outputs": [],
   "source": [
    "x = 10\n",
    "while( x != 0):\n",
    "    if(x > 5):\n",
    "        print(\"x is greater than 5\")\n",
    "    else:\n",
    "        print('x<5')"
   ]
  },
  {
   "cell_type": "code",
   "execution_count": null,
   "metadata": {},
   "outputs": [],
   "source": [
    "x = 10\n",
    "\n",
    "while( x != 0):\n",
    "    if(x > 5):\n",
    "        print('x > 5')\n",
    "        break\n",
    "    else:\n",
    "        print('x < 5')\n",
    "x -= 2 #else we can also write the diffrent function so as to follow    "
   ]
  },
  {
   "cell_type": "code",
   "execution_count": null,
   "metadata": {},
   "outputs": [],
   "source": [
    "x = 10\n",
    "\n",
    "while( x != 0):\n",
    "    if(x > 5):\n",
    "        print('x > 5')\n",
    "        break\n",
    "    else:\n",
    "        print('x < 5')\n",
    "x = 1 #else we can also write       "
   ]
  },
  {
   "cell_type": "code",
   "execution_count": 35,
   "metadata": {},
   "outputs": [
    {
     "name": "stdout",
     "output_type": "stream",
     "text": [
      "1\n"
     ]
    }
   ],
   "source": [
    "count =0\n",
    "while(count <1):\n",
    "    count = count +1\n",
    "    print(count)\n",
    "    break\n",
    "else:\n",
    "    print(\"no break\")"
   ]
  },
  {
   "cell_type": "code",
   "execution_count": 36,
   "metadata": {},
   "outputs": [
    {
     "name": "stdout",
     "output_type": "stream",
     "text": [
      "1\n",
      "2\n",
      "3\n",
      "4\n",
      "5\n",
      "6\n",
      "7\n",
      "8\n",
      "9\n",
      "10\n",
      "11\n",
      "no break\n"
     ]
    }
   ],
   "source": [
    "count = 0\n",
    "while(count <= 1):\n",
    "    count  = count + 1\n",
    "    print(count)\n",
    "    for i in range(10):\n",
    "        count += 1\n",
    "        print(count)        \n",
    "else:\n",
    "    print(\"no break\")"
   ]
  },
  {
   "cell_type": "code",
   "execution_count": 37,
   "metadata": {},
   "outputs": [
    {
     "name": "stdout",
     "output_type": "stream",
     "text": [
      "1\n",
      "2\n",
      "no break\n"
     ]
    }
   ],
   "source": [
    "count = 0\n",
    "while(count <= 1):\n",
    "    count  = count + 1\n",
    "    print(count)\n",
    "    for i in range(10):\n",
    "        count += 1\n",
    "        print(count)\n",
    "        break\n",
    "else:\n",
    "    print(\"no break\")"
   ]
  },
  {
   "cell_type": "code",
   "execution_count": 39,
   "metadata": {},
   "outputs": [
    {
     "name": "stdout",
     "output_type": "stream",
     "text": [
      "1\n",
      "2\n",
      "3\n",
      "yes ececuted for\n"
     ]
    }
   ],
   "source": [
    "for i in range(1,4):\n",
    "    print(i)\n",
    "    \n",
    "else:\n",
    "    print(\"yes ececuted for\")"
   ]
  },
  {
   "cell_type": "code",
   "execution_count": 40,
   "metadata": {},
   "outputs": [
    {
     "name": "stdout",
     "output_type": "stream",
     "text": [
      "1\n"
     ]
    }
   ],
   "source": [
    "for i in range(1,4):\n",
    "    print(i)\n",
    "    break\n",
    "else:\n",
    "    print(\"yes ececuted for\")"
   ]
  },
  {
   "cell_type": "code",
   "execution_count": 41,
   "metadata": {},
   "outputs": [
    {
     "name": "stdout",
     "output_type": "stream",
     "text": [
      "Searching prefix:Dear\n",
      "Dear all\n",
      "Closing coroutine!!\n"
     ]
    }
   ],
   "source": [
    "def print_name(prefix): \n",
    "    print(\"Searching prefix:{}\".format(prefix)) \n",
    "    try :  \n",
    "        while True: \n",
    "                name = (yield) \n",
    "                if prefix in name: \n",
    "                    print(name) \n",
    "    except GeneratorExit: \n",
    "            print(\"Closing coroutine!!\") \n",
    "  \n",
    "corou = print_name(\"Dear\") \n",
    "corou.__next__() \n",
    "corou.send(\"students\") \n",
    "corou.send(\"Dear all\")\n",
    "corou.close()\n"
   ]
  },
  {
   "cell_type": "code",
   "execution_count": 42,
   "metadata": {},
   "outputs": [
    {
     "name": "stdout",
     "output_type": "stream",
     "text": [
      "Searching prefix:Dear\n",
      "Dear rnsitans\n"
     ]
    }
   ],
   "source": [
    "def print_name(prefix): \n",
    "    print(\"Searching prefix:{}\".format(prefix)) \n",
    "    try :  \n",
    "        while True: \n",
    "                name = (yield) \n",
    "                if prefix in name: \n",
    "                    print(name) \n",
    "    except GeneratorExit: \n",
    "            print(\"Closing coroutine!!\") \n",
    "  \n",
    "corou = print_name(\"Dear\") \n",
    "corou.__next__() \n",
    "corou.send(\"students\") \n",
    "corou.send(\"Dear rnsitans\")"
   ]
  },
  {
   "cell_type": "code",
   "execution_count": 43,
   "metadata": {},
   "outputs": [
    {
     "name": "stdout",
     "output_type": "stream",
     "text": [
      "I'm sink, i'll print tokens\n",
      "Searching for ing\n"
     ]
    }
   ],
   "source": [
    "\n",
    "# Python3 program for demonstrating \n",
    "# coroutine chaining \n",
    "  \n",
    "def producer(sentence, next_coroutine):\n",
    "    tokens = sentence.split(\" \") \n",
    "    for token in tokens: \n",
    "        next_coroutine.send(token) \n",
    "    next_coroutine.close() \n",
    "  \n",
    "def pattern_filter(pattern=\"ing\", next_coroutine=None): \n",
    "\n",
    "    print(\"Searching for {}\".format(pattern)) \n",
    "    try: \n",
    "        while True: \n",
    "            token = (yield) \n",
    "            if pattern in token: \n",
    "                next_coroutine.send(token) \n",
    "    except GeneratorExit: \n",
    "        print(\"Done with filtering!!\") \n",
    "  \n",
    "def print_token(): \n",
    "    ''' \n",
    "    Act as a sink, simply print the \n",
    "    received tokens \n",
    "    '''\n",
    "    print(\"I'm sink, i'll print tokens\") \n",
    "    try: \n",
    "        while True: \n",
    "            token = (yield) \n",
    "            print(token) \n",
    "    except GeneratorExit: \n",
    "        print(\"Done with printing!\") \n",
    "  \n",
    "pt = print_token() \n",
    "pt.__next__() \n",
    "pf = pattern_filter(next_coroutine = pt) \n",
    "pf.__next__() \n"
   ]
  },
  {
   "cell_type": "code",
   "execution_count": null,
   "metadata": {},
   "outputs": [],
   "source": []
  },
  {
   "cell_type": "code",
   "execution_count": null,
   "metadata": {},
   "outputs": [],
   "source": []
  },
  {
   "cell_type": "markdown",
   "metadata": {},
   "source": [
    "# The midblowing dictionaries"
   ]
  },
  {
   "cell_type": "code",
   "execution_count": null,
   "metadata": {},
   "outputs": [],
   "source": [
    "import math \n",
    "def dispatch_dict(operator,x,y):\n",
    "    return{\n",
    "        'add':lambda: x+y,\n",
    "        'sub':lambda :x - y,\n",
    "        'div':lambda :x / y,\n",
    "        'floordiv':lambda: x // y\n",
    "    }.get(operator,None)()\n",
    "dispatch_dict('add',4,5)\n",
    "dispatch_dict('sub',4,6)\n",
    "dispatch_dict('div',4,2)\n",
    "dispatch_dict('floordiv',2,3)"
   ]
  },
  {
   "cell_type": "code",
   "execution_count": null,
   "metadata": {},
   "outputs": [],
   "source": [
    "import math \n",
    "def dispatch_dict(operator,x,y):\n",
    "    return{\n",
    "        'add':lambda: x+y,\n",
    "        'sub':lambda :x - y,\n",
    "        'div':lambda :x / y,\n",
    "        'floordiv':lambda: x // y\n",
    "    }.get(operator,None)()\n",
    "a = dispatch_dict('add',4,5)\n",
    "b = dispatch_dict('sub',4,6)\n",
    "c = dispatch_dict('div',4,2)\n",
    "d = dispatch_dict('floordiv',2,3)\n",
    "print(a       ,         b ,          c ,          d)"
   ]
  },
  {
   "cell_type": "code",
   "execution_count": null,
   "metadata": {},
   "outputs": [],
   "source": [
    "import math \n",
    "def dispatch_dict(operator,x,y):\n",
    "    return{\n",
    "        'add':lambda: x+y,\n",
    "        'sub':lambda :x - y,\n",
    "        'div':lambda :x / y,\n",
    "        'flordiv':lambda: x // y,\n",
    "        'sqrt':lambda :sqrt(x)\n",
    "    }.get(operator,None)()\n",
    "dispatch_dict('add',4,5)\n",
    "dispatch_dict('sub',4,6)\n",
    "dispatch_dict('div',4,2)\n",
    "disptach_dict('sqrt',2,5)"
   ]
  },
  {
   "cell_type": "code",
   "execution_count": null,
   "metadata": {},
   "outputs": [],
   "source": [
    "import math \n",
    "def dispatch_dict(operator,x,y):\n",
    "    return{\n",
    "        'add':lambda: x+y,\n",
    "        'sub':lambda :x - y,\n",
    "        'div':lambda :x / y,\n",
    "        'flordiv':lambda: x // y,\n",
    "        'sqrt':lambda :sqrt(x)\n",
    "    }.get(operator,None)()\n",
    "dispatch_dict('add',4,5)\n",
    "dispatch_dict('sub',4,6)\n",
    "dispatch_dict('div',4,2)\n",
    "#disptach_dict('sqrt',2,5)"
   ]
  },
  {
   "cell_type": "code",
   "execution_count": null,
   "metadata": {},
   "outputs": [],
   "source": [
    "dispatch_dict('add',2,3)"
   ]
  },
  {
   "cell_type": "markdown",
   "metadata": {},
   "source": [
    "# dictionaries tutorial continude"
   ]
  },
  {
   "cell_type": "code",
   "execution_count": null,
   "metadata": {},
   "outputs": [],
   "source": [
    "operator = {'nimbuda':print(\"aish killed slaman\"),'salman':print(\"too many affairs\"),'aish':print(\"Vivek died for her\"),'ad':print(\"kajol is my love\")}\n"
   ]
  },
  {
   "cell_type": "code",
   "execution_count": null,
   "metadata": {},
   "outputs": [],
   "source": [
    "operator = {'nimbuda':print(\"aish killed slaman\"),'salman':print(\"too many affairs\"),'aish':printf(\"Vivek died for her\"),'ad':print(\"kajol is my love\")}\n",
    "operator('nimbuda')"
   ]
  },
  {
   "cell_type": "code",
   "execution_count": null,
   "metadata": {},
   "outputs": [],
   "source": [
    "operator = {'nimbuda':print(\"aish killed slaman\"),'salman':print(\"too many affairs\"),'aish':print(\"Vivek died for her\"),'ad':print(\"kajol is my love\")}\n",
    "operator(0)"
   ]
  },
  {
   "cell_type": "code",
   "execution_count": null,
   "metadata": {},
   "outputs": [],
   "source": [
    "operator = dict{'nimbuda':print(\"aish killed slaman\"),'salman':print(\"too many affairs\"),'aish':print(\"Vivek died for her\"),'ad':print(\"kajol is my love\")}\n",
    "operator(0)"
   ]
  },
  {
   "cell_type": "code",
   "execution_count": null,
   "metadata": {},
   "outputs": [],
   "source": [
    "dict1 = {('nimbuda': lambda:print(\"aish killed slaman\")),('salman':lambda:print(\"too many affairs\")),('aish':print(\"Vivek died for her\"))}\n",
    "print(dict1(0))"
   ]
  },
  {
   "cell_type": "code",
   "execution_count": null,
   "metadata": {},
   "outputs": [],
   "source": [
    "print(operator['nimbuda'])"
   ]
  },
  {
   "cell_type": "code",
   "execution_count": null,
   "metadata": {},
   "outputs": [],
   "source": [
    "print(operator.get(3))"
   ]
  },
  {
   "cell_type": "markdown",
   "metadata": {},
   "source": [
    "# the data initialization in the dynamic form"
   ]
  },
  {
   "cell_type": "code",
   "execution_count": null,
   "metadata": {},
   "outputs": [],
   "source": [
    "a = 5\n",
    "print(\"The value of a is: \"+str(a))"
   ]
  },
  {
   "cell_type": "code",
   "execution_count": null,
   "metadata": {},
   "outputs": [],
   "source": [
    "a =12 if 20 > 10 else 0\n",
    "print(\"the value of the a is \"+ str(a))"
   ]
  },
  {
   "cell_type": "markdown",
   "metadata": {},
   "source": [
    "here we can see that the inside the try we can get the highest precidence"
   ]
  },
  {
   "cell_type": "code",
   "execution_count": null,
   "metadata": {},
   "outputs": [],
   "source": [
    "for i in range(10):\n",
    "    try:\n",
    "        print(\"numpy\")\n",
    "        pass #try obviously gets the highest prcidence\n",
    "    except:\n",
    "        print(\"pandas\")"
   ]
  },
  {
   "cell_type": "code",
   "execution_count": null,
   "metadata": {},
   "outputs": [],
   "source": [
    "a = [1,2,3,4,5,6,7,812,13,14]\n",
    "for i in range(10):\n",
    "    print(a[i])\n",
    "    "
   ]
  },
  {
   "cell_type": "code",
   "execution_count": null,
   "metadata": {},
   "outputs": [],
   "source": [
    "a = [1,2,3,4,5,6,7,812,13,14]\n",
    "for i in range(10):\n",
    "    print(a[i])\n",
    "    pass"
   ]
  },
  {
   "cell_type": "code",
   "execution_count": null,
   "metadata": {},
   "outputs": [],
   "source": [
    "a = [1,2,3,4,5,6,7,812,13,14]\n",
    "for i in range(10):\n",
    "    print(a[i])\n",
    "    break"
   ]
  },
  {
   "cell_type": "code",
   "execution_count": null,
   "metadata": {},
   "outputs": [],
   "source": [
    "a = [1,2,3,4,5,6,7,812,13,14]\n",
    "for i in range(10):\n",
    "    print(a[i],end = \"\")"
   ]
  },
  {
   "cell_type": "code",
   "execution_count": null,
   "metadata": {},
   "outputs": [],
   "source": [
    "a = [1,2,3,4,5,6,7,812,13,14]\n",
    "for i in range(10):\n",
    "    print(a[i]''\\n',end = \"\")"
   ]
  },
  {
   "cell_type": "markdown",
   "metadata": {},
   "source": [
    "look at the beauty of the compiler"
   ]
  },
  {
   "cell_type": "code",
   "execution_count": null,
   "metadata": {},
   "outputs": [],
   "source": [
    "print(\"geeks of techniod\")\n",
    "a = (\"ak,ani,sh\")\n",
    "for i in range(10):\n",
    "    print(a)\n",
    "    "
   ]
  },
  {
   "cell_type": "code",
   "execution_count": null,
   "metadata": {},
   "outputs": [],
   "source": [
    "print(\"geeks of techniod\")\n",
    "a = (\"ak,ani,sh\")\n",
    "for i in range(10):\n",
    "    print(a)\n",
    "    break\n",
    "    "
   ]
  },
  {
   "cell_type": "code",
   "execution_count": null,
   "metadata": {},
   "outputs": [],
   "source": [
    "print(\"geeks of techniod\")\n",
    "a = (\"ak,ani,sh\")\n",
    "for i in range(10):\n",
    "    print(a)\n",
    "    pass\n",
    "    "
   ]
  },
  {
   "cell_type": "code",
   "execution_count": null,
   "metadata": {},
   "outputs": [],
   "source": [
    "a = [1,2,3,4]\n",
    "print(a)"
   ]
  },
  {
   "cell_type": "markdown",
   "metadata": {},
   "source": [
    "# the competative coding aspects"
   ]
  },
  {
   "cell_type": "markdown",
   "metadata": {},
   "source": [
    "this is important value for the programing aspects"
   ]
  },
  {
   "cell_type": "code",
   "execution_count": 58,
   "metadata": {},
   "outputs": [
    {
     "name": "stdout",
     "output_type": "stream",
     "text": [
      "97\n"
     ]
    }
   ],
   "source": [
    "s = 'a'\n",
    "c = ord(s)\n",
    "print(c)"
   ]
  },
  {
   "cell_type": "code",
   "execution_count": 77,
   "metadata": {},
   "outputs": [
    {
     "name": "stdout",
     "output_type": "stream",
     "text": [
      "0xb23610be\n"
     ]
    }
   ],
   "source": [
    "init = 2989887678\n",
    "hexvalue =hex(init)\n",
    "print(hexvalue)"
   ]
  },
  {
   "cell_type": "code",
   "execution_count": 81,
   "metadata": {},
   "outputs": [
    {
     "name": "stdout",
     "output_type": "stream",
     "text": [
      "0o202457572\n"
     ]
    }
   ],
   "source": [
    "init1 = 34234234\n",
    "octvalue = oct(init1)\n",
    "print(octvalue)"
   ]
  },
  {
   "cell_type": "code",
   "execution_count": 59,
   "metadata": {},
   "outputs": [
    {
     "name": "stdout",
     "output_type": "stream",
     "text": [
      "('a',)\n"
     ]
    }
   ],
   "source": [
    "tup = tuple(s)\n",
    "print(tup)"
   ]
  },
  {
   "cell_type": "code",
   "execution_count": 61,
   "metadata": {},
   "outputs": [
    {
     "name": "stdout",
     "output_type": "stream",
     "text": [
      "{'a'}\n"
     ]
    }
   ],
   "source": [
    "sets = set(s)\n",
    "print(sets)"
   ]
  },
  {
   "cell_type": "code",
   "execution_count": 66,
   "metadata": {},
   "outputs": [
    {
     "ename": "NameError",
     "evalue": "name 'links' is not defined",
     "output_type": "error",
     "traceback": [
      "\u001b[1;31m---------------------------------------------------------------------------\u001b[0m",
      "\u001b[1;31mNameError\u001b[0m                                 Traceback (most recent call last)",
      "\u001b[1;32m<ipython-input-66-5a1848602377>\u001b[0m in \u001b[0;36m<module>\u001b[1;34m\u001b[0m\n\u001b[0;32m      1\u001b[0m \u001b[0mlink\u001b[0m \u001b[1;33m=\u001b[0m \u001b[1;33m(\u001b[0m\u001b[1;34m\"GREAT TECHNOIDS ARE LEAVING THE COLLEGE\"\u001b[0m\u001b[1;33m)\u001b[0m\u001b[1;33m\u001b[0m\u001b[1;33m\u001b[0m\u001b[0m\n\u001b[1;32m----> 2\u001b[1;33m \u001b[0mlists\u001b[0m \u001b[1;33m=\u001b[0m \u001b[0mlist\u001b[0m\u001b[1;33m(\u001b[0m\u001b[0mlinks\u001b[0m\u001b[1;33m)\u001b[0m\u001b[1;33m\u001b[0m\u001b[1;33m\u001b[0m\u001b[0m\n\u001b[0m\u001b[0;32m      3\u001b[0m \u001b[0mprint\u001b[0m\u001b[1;33m(\u001b[0m\u001b[0mlists\u001b[0m\u001b[1;33m,\u001b[0m\u001b[0mend\u001b[0m \u001b[1;33m=\u001b[0m \u001b[1;34m''\u001b[0m\u001b[1;33m)\u001b[0m\u001b[1;33m\u001b[0m\u001b[1;33m\u001b[0m\u001b[0m\n",
      "\u001b[1;31mNameError\u001b[0m: name 'links' is not defined"
     ]
    }
   ],
   "source": [
    "link = (\"GREAT TECHNOIDS ARE LEAVING THE COLLEGE\")\n",
    "lists = list(links)\n",
    "print(lists,end = '')"
   ]
  },
  {
   "cell_type": "code",
   "execution_count": 68,
   "metadata": {},
   "outputs": [
    {
     "name": "stdout",
     "output_type": "stream",
     "text": [
      "(1+2j)\n"
     ]
    }
   ],
   "source": [
    "a = 1\n",
    "b = 2\n",
    "comp = complex(a,b)\n",
    "print(comp)"
   ]
  },
  {
   "cell_type": "code",
   "execution_count": 72,
   "metadata": {},
   "outputs": [
    {
     "name": "stdout",
     "output_type": "stream",
     "text": [
      "1\n"
     ]
    }
   ],
   "source": [
    "a =1 \n",
    "stri = str(a)\n",
    "print(stri)"
   ]
  },
  {
   "cell_type": "code",
   "execution_count": 73,
   "metadata": {},
   "outputs": [
    {
     "name": "stdout",
     "output_type": "stream",
     "text": [
      "{'a': 1, 'b': 2, 'c': 3}\n"
     ]
    }
   ],
   "source": [
    "tup = (('a',1),('b',2),('c',3))\n",
    "dicti = dict(tup)\n",
    "print(dicti)"
   ]
  },
  {
   "cell_type": "markdown",
   "metadata": {},
   "source": [
    "private variable in python"
   ]
  },
  {
   "cell_type": "code",
   "execution_count": 93,
   "metadata": {},
   "outputs": [
    {
     "name": "stdout",
     "output_type": "stream",
     "text": [
      "<property object at 0x000002B70425DB38>\n",
      "fully cleaned\n"
     ]
    }
   ],
   "source": [
    "def _get_errors(self):\n",
    "    if self._errors is None:\n",
    "        self.fullclean()\n",
    "    return self.errors\n",
    "errors = property(_get_errors)\n",
    "print(errors)\n",
    "print(\"fully cleaned\")"
   ]
  },
  {
   "cell_type": "code",
   "execution_count": 94,
   "metadata": {},
   "outputs": [
    {
     "name": "stdout",
     "output_type": "stream",
     "text": [
      "<property object at 0x000002B70425DCC8>\n",
      "fully cleaned\n"
     ]
    }
   ],
   "source": [
    "def _get_errors(self):\n",
    "    if self._error is None:#look for the code\n",
    "        self.fullclean()\n",
    "    return self.error\n",
    "errors = property(_get_error)\n",
    "print(errors)\n",
    "print(\"fully cleaned\")"
   ]
  },
  {
   "cell_type": "code",
   "execution_count": 96,
   "metadata": {},
   "outputs": [
    {
     "name": "stdout",
     "output_type": "stream",
     "text": [
      "<property object at 0x000002B704266098>\n",
      "fully cleaned\n"
     ]
    }
   ],
   "source": [
    "def _get_errors(self):\n",
    "    if self._error is None:#look for the code\n",
    "        self.fullclean()\n",
    "    return self.error\n",
    "errors = property(_get_error)\n",
    "print(errors)\n",
    "print(\"fully cleaned\")"
   ]
  },
  {
   "cell_type": "code",
   "execution_count": 97,
   "metadata": {},
   "outputs": [
    {
     "name": "stdout",
     "output_type": "stream",
     "text": [
      "<property object at 0x000002B704266228>\n",
      "fully cleaned\n"
     ]
    }
   ],
   "source": [
    "def _get_errors(self):\n",
    "    if self._error is quit():#look for the code\n",
    "        self.fullclean()\n",
    "    return self.error\n",
    "errors = property(_get_error)\n",
    "print(errors)\n",
    "print(\"fully cleaned\")"
   ]
  },
  {
   "cell_type": "code",
   "execution_count": 98,
   "metadata": {},
   "outputs": [
    {
     "name": "stdout",
     "output_type": "stream",
     "text": [
      "<property object at 0x000002B704266408>\n",
      "fully cleaned\n"
     ]
    }
   ],
   "source": [
    "def _get_errors(self):\n",
    "    if self._error is complex(1,2):#look for the code\n",
    "        self.fullclean()\n",
    "    return self.error\n",
    "errors = property(_get_error)\n",
    "print(errors)\n",
    "print(\"fully cleaned\")"
   ]
  },
  {
   "cell_type": "code",
   "execution_count": 100,
   "metadata": {},
   "outputs": [],
   "source": [
    "class technoids:\n",
    "    def _single_technoids(self):\n",
    "        print(\"none\")\n",
    "        pass\n",
    "    def __double_techoids(self):\n",
    "        print(\"everyting\")\n",
    "        pass\n",
    "class python(technoids):\n",
    "    def __double_method(self):\n",
    "        pass"
   ]
  },
  {
   "cell_type": "code",
   "execution_count": 85,
   "metadata": {},
   "outputs": [
    {
     "ename": "NameError",
     "evalue": "name 'vish' is not defined",
     "output_type": "error",
     "traceback": [
      "\u001b[1;31m---------------------------------------------------------------------------\u001b[0m",
      "\u001b[1;31mNameError\u001b[0m                                 Traceback (most recent call last)",
      "\u001b[1;32m<ipython-input-85-888b0b556d73>\u001b[0m in \u001b[0;36m<module>\u001b[1;34m\u001b[0m\n\u001b[1;32m----> 1\u001b[1;33m \u001b[1;32mclass\u001b[0m \u001b[0mMAP\u001b[0m\u001b[1;33m:\u001b[0m\u001b[1;33m\u001b[0m\u001b[1;33m\u001b[0m\u001b[0m\n\u001b[0m\u001b[0;32m      2\u001b[0m     \u001b[1;32mdef\u001b[0m \u001b[0m__init__\u001b[0m\u001b[1;33m(\u001b[0m\u001b[0mself\u001b[0m\u001b[1;33m,\u001b[0m\u001b[0miterate\u001b[0m\u001b[1;33m)\u001b[0m\u001b[1;33m:\u001b[0m\u001b[1;33m\u001b[0m\u001b[1;33m\u001b[0m\u001b[0m\n\u001b[0;32m      3\u001b[0m         \u001b[0mself\u001b[0m\u001b[1;33m.\u001b[0m\u001b[0mlist\u001b[0m \u001b[1;33m=\u001b[0m\u001b[1;33m[\u001b[0m\u001b[1;33m]\u001b[0m\u001b[1;33m\u001b[0m\u001b[1;33m\u001b[0m\u001b[0m\n\u001b[0;32m      4\u001b[0m         \u001b[0mself\u001b[0m\u001b[1;33m.\u001b[0m\u001b[0m__geek\u001b[0m\u001b[1;33m(\u001b[0m\u001b[0miterate\u001b[0m\u001b[1;33m)\u001b[0m\u001b[1;33m\u001b[0m\u001b[1;33m\u001b[0m\u001b[0m\n\u001b[0;32m      5\u001b[0m     \u001b[1;32mdef\u001b[0m \u001b[0mgeek\u001b[0m\u001b[1;33m(\u001b[0m\u001b[0mself\u001b[0m\u001b[1;33m,\u001b[0m\u001b[0miterate\u001b[0m\u001b[1;33m)\u001b[0m\u001b[1;33m:\u001b[0m\u001b[1;33m\u001b[0m\u001b[1;33m\u001b[0m\u001b[0m\n",
      "\u001b[1;32m<ipython-input-85-888b0b556d73>\u001b[0m in \u001b[0;36mMAP\u001b[1;34m()\u001b[0m\n\u001b[0;32m      7\u001b[0m             \u001b[0mself\u001b[0m\u001b[1;33m.\u001b[0m\u001b[0mlist\u001b[0m\u001b[1;33m.\u001b[0m\u001b[0mappend\u001b[0m\u001b[1;33m(\u001b[0m\u001b[0mitem\u001b[0m\u001b[1;33m)\u001b[0m\u001b[1;33m\u001b[0m\u001b[1;33m\u001b[0m\u001b[0m\n\u001b[0;32m      8\u001b[0m \u001b[1;33m\u001b[0m\u001b[0m\n\u001b[1;32m----> 9\u001b[1;33m     \u001b[0m__geek\u001b[0m \u001b[1;33m=\u001b[0m\u001b[0mvish\u001b[0m\u001b[1;33m\u001b[0m\u001b[1;33m\u001b[0m\u001b[0m\n\u001b[0m\u001b[0;32m     10\u001b[0m \u001b[1;32mclass\u001b[0m \u001b[0mmapsubclass\u001b[0m\u001b[1;33m(\u001b[0m\u001b[0mMAP\u001b[0m\u001b[1;33m)\u001b[0m\u001b[1;33m:\u001b[0m\u001b[1;33m\u001b[0m\u001b[1;33m\u001b[0m\u001b[0m\n\u001b[0;32m     11\u001b[0m     \u001b[1;32mdef\u001b[0m \u001b[0mgeek\u001b[0m\u001b[1;33m(\u001b[0m\u001b[0mSelf\u001b[0m\u001b[1;33m,\u001b[0m\u001b[0mkey\u001b[0m\u001b[1;33m,\u001b[0m\u001b[0mvalue\u001b[0m\u001b[1;33m)\u001b[0m\u001b[1;33m:\u001b[0m\u001b[1;33m\u001b[0m\u001b[1;33m\u001b[0m\u001b[0m\n",
      "\u001b[1;31mNameError\u001b[0m: name 'vish' is not defined"
     ]
    }
   ],
   "source": [
    "class MAP:\n",
    "    def __init__(self,iterate):\n",
    "        self.list =[]\n",
    "        self.__geek(iterate)\n",
    "    def geek(self,iterate):\n",
    "        for item in iterate:\n",
    "            self.list.append(item)\n",
    "            \n",
    "    __geek =vish\n",
    "class mapsubclass(MAP):\n",
    "    def geek(Self,key,value):\n",
    "        for i in zip(keys,values):\n",
    "            self.list.append(i)"
   ]
  },
  {
   "cell_type": "code",
   "execution_count": 103,
   "metadata": {},
   "outputs": [
    {
     "name": "stdout",
     "output_type": "stream",
     "text": [
      "<__main__.a object at 0x00000251CC2C0A20>\n",
      "<__main__.a object at 0x00000251CC2C0978>\n",
      "<__main__.a object at 0x00000251CC2C0240>\n",
      "<__main__.a object at 0x00000251CC2C0198>\n",
      "<__main__.a object at 0x00000251CC2C0208>\n"
     ]
    }
   ],
   "source": [
    "class a:\n",
    "    def __init__(self,a):\n",
    "        self.a =a\n",
    "        def __add__(self,o):\n",
    "            return self.a+ o.a\n",
    "            pass\n",
    "        pass\n",
    "    pass\n",
    "p1 = a(\"Adithi\")\n",
    "p2 = a(\"akshatha\")\n",
    "p3 = a(\"ipshitha\")\n",
    "p4 = a(\"kushal\")\n",
    "p5 = a(\"VIshwas\")\n",
    "print(p1)\n",
    "print(p2)\n",
    "print(p3)\n",
    "print(p4)\n",
    "print(p5)"
   ]
  },
  {
   "cell_type": "code",
   "execution_count": 32,
   "metadata": {},
   "outputs": [
    {
     "name": "stdout",
     "output_type": "stream",
     "text": [
      "zero\n"
     ]
    }
   ],
   "source": [
    "def number_to_string(argument): #the code is the dictionary code\n",
    "    switcher = {\n",
    "        0: \"zero\",\n",
    "        1: \"one\",\n",
    "        2: \"two\",\n",
    "    }\n",
    "    return switcher.get(argument,\"nothing\")\n",
    "if __name__ == \"__main__\":\n",
    "    argument = 0\n",
    "    print(number_to_string(argument))"
   ]
  },
  {
   "cell_type": "code",
   "execution_count": 9,
   "metadata": {},
   "outputs": [
    {
     "ename": "NameError",
     "evalue": "name 'raw_input' is not defined",
     "output_type": "error",
     "traceback": [
      "\u001b[1;31m---------------------------------------------------------------------------\u001b[0m",
      "\u001b[1;31mNameError\u001b[0m                                 Traceback (most recent call last)",
      "\u001b[1;32m<ipython-input-9-0f962f34342b>\u001b[0m in \u001b[0;36m<module>\u001b[1;34m\u001b[0m\n\u001b[1;32m----> 1\u001b[1;33m \u001b[0mn\u001b[0m \u001b[1;33m=\u001b[0m \u001b[0mint\u001b[0m\u001b[1;33m(\u001b[0m\u001b[0mraw_input\u001b[0m\u001b[1;33m(\u001b[0m\u001b[1;33m)\u001b[0m\u001b[1;33m)\u001b[0m\u001b[1;33m\u001b[0m\u001b[1;33m\u001b[0m\u001b[0m\n\u001b[0m\u001b[0;32m      2\u001b[0m \u001b[1;33m\u001b[0m\u001b[0m\n\u001b[0;32m      3\u001b[0m \u001b[0marr\u001b[0m \u001b[1;33m=\u001b[0m \u001b[1;33m[\u001b[0m\u001b[0mint\u001b[0m\u001b[1;33m(\u001b[0m\u001b[0mx\u001b[0m\u001b[1;33m)\u001b[0m \u001b[1;32mfor\u001b[0m \u001b[0mx\u001b[0m \u001b[1;32min\u001b[0m \u001b[0mraw_input\u001b[0m\u001b[1;33m(\u001b[0m\u001b[1;33m)\u001b[0m\u001b[1;33m.\u001b[0m\u001b[0msplit\u001b[0m\u001b[1;33m(\u001b[0m\u001b[1;33m)\u001b[0m\u001b[1;33m]\u001b[0m\u001b[1;33m\u001b[0m\u001b[1;33m\u001b[0m\u001b[0m\n\u001b[0;32m      4\u001b[0m \u001b[0msummation\u001b[0m  \u001b[1;33m=\u001b[0m \u001b[1;36m0\u001b[0m\u001b[1;33m\u001b[0m\u001b[1;33m\u001b[0m\u001b[0m\n\u001b[0;32m      5\u001b[0m \u001b[1;32mfor\u001b[0m \u001b[0mx\u001b[0m \u001b[1;32min\u001b[0m \u001b[0marr\u001b[0m\u001b[1;33m:\u001b[0m\u001b[1;33m\u001b[0m\u001b[1;33m\u001b[0m\u001b[0m\n",
      "\u001b[1;31mNameError\u001b[0m: name 'raw_input' is not defined"
     ]
    }
   ],
   "source": [
    "n = int(raw_input())\n",
    "\n",
    "arr = [int(x) for x in raw_input().split()]\n",
    "summation  = 0\n",
    "for x in arr:\n",
    "    summantion += x\n",
    "print(summation)"
   ]
  },
  {
   "cell_type": "markdown",
   "metadata": {},
   "source": [
    "# #the geeks fro geeks code has to be shown"
   ]
  },
  {
   "cell_type": "markdown",
   "metadata": {},
   "source": [
    "# the couroute method (basically a method building function)"
   ]
  },
  {
   "cell_type": "code",
   "execution_count": 52,
   "metadata": {},
   "outputs": [
    {
     "name": "stdout",
     "output_type": "stream",
     "text": [
      "1\n",
      "2\n",
      "3\n"
     ]
    }
   ],
   "source": [
    "def sample():\n",
    "    yield 1\n",
    "    yield 2\n",
    "    yield 3\n",
    "for value in sample():\n",
    "    print(value)"
   ]
  },
  {
   "cell_type": "code",
   "execution_count": 25,
   "metadata": {},
   "outputs": [
    {
     "name": "stdout",
     "output_type": "stream",
     "text": [
      "Searching the prefix:dear\n",
      "dear technoids\n"
     ]
    }
   ],
   "source": [
    "def print_name(prefix):\n",
    "    print(\"Searching the prefix:{}\".format(prefix))\n",
    "    while True:\n",
    "        name = (yield)\n",
    "        if prefix in name:\n",
    "            print(name)\n",
    "            pass\n",
    "corou = print_name(\"dear\")\n",
    "corou.__next__()\n",
    "corou.send(\"TEchnoids\")\n",
    "corou.send(\"people\")\n",
    "corou.send(\"dear technoids\")\n",
    "corou.close()"
   ]
  },
  {
   "cell_type": "code",
   "execution_count": 26,
   "metadata": {},
   "outputs": [
    {
     "name": "stdout",
     "output_type": "stream",
     "text": [
      "Searching the prefix:dear\n"
     ]
    }
   ],
   "source": [
    "def print_name(prefix):\n",
    "    print(\"Searching the prefix:{}\".format(prefix))\n",
    "    while True:\n",
    "        name = (yield)\n",
    "        if prefix in name:\n",
    "            print(name)\n",
    "            pass\n",
    "corou = print_name(\"dear\")\n",
    "corou.__next__()\n",
    "corou.send(\"TEchnoids\")\n",
    "corou.send(\"people\")\n",
    "#corou.send(\"dear technoids\")\n",
    "corou.close()"
   ]
  },
  {
   "cell_type": "code",
   "execution_count": 27,
   "metadata": {},
   "outputs": [
    {
     "name": "stdout",
     "output_type": "stream",
     "text": [
      "searching prefix:dear\n",
      "dear guyus\n"
     ]
    }
   ],
   "source": [
    "def print_name(prefix):\n",
    "    print(\"searching prefix:{}\".format(prefix))\n",
    "    try:\n",
    "        while True:\n",
    "            name = (yield)\n",
    "            if prefix in name:\n",
    "                print(name)\n",
    "    except GeneratorExit:\n",
    "        print(\"closing couroting\")\n",
    "corou = print_name(\"dear\")\n",
    "corou.__next__()\n",
    "corou.send(\"dear guys\")\n"
   ]
  },
  {
   "cell_type": "code",
   "execution_count": 28,
   "metadata": {},
   "outputs": [
    {
     "name": "stdout",
     "output_type": "stream",
     "text": [
      "closing couroting\n",
      "the search for the prefixdef\n",
      "def the tutorial\n"
     ]
    }
   ],
   "source": [
    "def print_name(prefix):\n",
    "    print(\"the search for the prefix{}\".format(prefix))\n",
    "    try:\n",
    "        while True:\n",
    "            name = (yield)\n",
    "            if prefix in name:\n",
    "                print(name)\n",
    "    except GeneratorExit:\n",
    "        print(\"losing the courouting\")\n",
    "corou = print_name(\"def\")\n",
    "corou.__next__()\n",
    "corou.send(\"making\")\n",
    "corou.send(\"def the tutorial\")"
   ]
  },
  {
   "cell_type": "code",
   "execution_count": 51,
   "metadata": {},
   "outputs": [],
   "source": [
    "mutex =True\n",
    "if mutex == True:\n",
    "    pass\n",
    "else:\n",
    "    print(\"False\")"
   ]
  },
  {
   "cell_type": "code",
   "execution_count": 55,
   "metadata": {},
   "outputs": [
    {
     "name": "stdout",
     "output_type": "stream",
     "text": [
      "1\n",
      "4\n",
      "9\n",
      "16\n",
      "25\n",
      "36\n",
      "49\n",
      "64\n",
      "81\n",
      "100\n"
     ]
    }
   ],
   "source": [
    "def nextit():\n",
    "    i =1\n",
    "    while True:\n",
    "        yield i*i\n",
    "        i += 1\n",
    "for num in nextit():\n",
    "    if num > 100:\n",
    "        break\n",
    "    print(num)"
   ]
  },
  {
   "cell_type": "code",
   "execution_count": 62,
   "metadata": {},
   "outputs": [],
   "source": [
    "def numit():\n",
    "    i =1\n",
    "    while True:\n",
    "        yield i*i\n",
    "        i += 1\n",
    "if num in nextit():\n",
    "    if num >200:\n",
    "        print(num)"
   ]
  },
  {
   "cell_type": "code",
   "execution_count": 68,
   "metadata": {},
   "outputs": [
    {
     "name": "stdout",
     "output_type": "stream",
     "text": [
      "MOTOR\n",
      "MOTOR\n"
     ]
    }
   ],
   "source": [
    "def shunt(parameter):\n",
    "    return parameter.upper()\n",
    "print(shunt(\"motor\"))\n",
    "torque = shunt\n",
    "print(torque(\"motor\"))"
   ]
  },
  {
   "cell_type": "markdown",
   "metadata": {},
   "source": [
    "# the web browser code"
   ]
  },
  {
   "cell_type": "code",
   "execution_count": 95,
   "metadata": {},
   "outputs": [
    {
     "ename": "NameError",
     "evalue": "name 'google' is not defined",
     "output_type": "error",
     "traceback": [
      "\u001b[1;31m---------------------------------------------------------------------------\u001b[0m",
      "\u001b[1;31mNameError\u001b[0m                                 Traceback (most recent call last)",
      "\u001b[1;32m<ipython-input-95-4ce685c7dd4b>\u001b[0m in \u001b[0;36m<module>\u001b[1;34m\u001b[0m\n\u001b[0;32m      3\u001b[0m \u001b[0mwebbb\u001b[0m \u001b[1;33m=\u001b[0m \u001b[0mwebbrowser\u001b[0m\u001b[1;33m.\u001b[0m\u001b[0mopen_new_tab\u001b[0m\u001b[1;33m(\u001b[0m\u001b[1;34m\"www.google.com\"\u001b[0m\u001b[1;33m)\u001b[0m\u001b[1;33m\u001b[0m\u001b[1;33m\u001b[0m\u001b[0m\n\u001b[0;32m      4\u001b[0m \u001b[0mwebbreg\u001b[0m \u001b[1;33m=\u001b[0m \u001b[0mwebbrowser\u001b[0m\u001b[1;33m.\u001b[0m\u001b[0mregister\u001b[0m\u001b[1;33m(\u001b[0m\u001b[1;34m\"www.gogle.co.in\"\u001b[0m\u001b[1;33m,\u001b[0m\u001b[1;36m4\u001b[0m\u001b[1;33m,\u001b[0m\u001b[1;32mNone\u001b[0m\u001b[1;33m)\u001b[0m\u001b[1;33m\u001b[0m\u001b[1;33m\u001b[0m\u001b[0m\n\u001b[1;32m----> 5\u001b[1;33m \u001b[0mwebget\u001b[0m \u001b[1;33m=\u001b[0m \u001b[0mwebbrowser\u001b[0m\u001b[1;33m.\u001b[0m\u001b[0mget\u001b[0m\u001b[1;33m(\u001b[0m\u001b[1;33m[\u001b[0m\u001b[0mgoogle\u001b[0m\u001b[1;33m-\u001b[0m\u001b[0mchrome\u001b[0m\u001b[1;33m]\u001b[0m\u001b[1;33m)\u001b[0m\u001b[1;33m\u001b[0m\u001b[1;33m\u001b[0m\u001b[0m\n\u001b[0m",
      "\u001b[1;31mNameError\u001b[0m: name 'google' is not defined"
     ]
    }
   ],
   "source": [
    "import webbrowser\n",
    "webb = webbrowser.open(\"www.google.co.in\")\n",
    "webbb = webbrowser.open_new_tab(\"www.google.com\")\n",
    "webbreg = webbrowser.register(\"www.gogle.co.in\",4,None)\n",
    "webget = webbrowser.get([google-chrome])"
   ]
  },
  {
   "cell_type": "code",
   "execution_count": 90,
   "metadata": {},
   "outputs": [
    {
     "ename": "AttributeError",
     "evalue": "module 'webbrowser' has no attribute 'conroller'",
     "output_type": "error",
     "traceback": [
      "\u001b[1;31m---------------------------------------------------------------------------\u001b[0m",
      "\u001b[1;31mAttributeError\u001b[0m                            Traceback (most recent call last)",
      "\u001b[1;32m<ipython-input-90-c5922b57fe7c>\u001b[0m in \u001b[0;36m<module>\u001b[1;34m\u001b[0m\n\u001b[0;32m      1\u001b[0m \u001b[1;32mimport\u001b[0m \u001b[0mwebbrowser\u001b[0m\u001b[1;33m\u001b[0m\u001b[1;33m\u001b[0m\u001b[0m\n\u001b[1;32m----> 2\u001b[1;33m \u001b[0mwebb1\u001b[0m \u001b[1;33m=\u001b[0m \u001b[0mwebbrowser\u001b[0m\u001b[1;33m.\u001b[0m\u001b[0mconroller\u001b[0m\u001b[1;33m.\u001b[0m\u001b[0mopen\u001b[0m\u001b[1;33m(\u001b[0m\u001b[1;34m\"www.google.co.in\"\u001b[0m\u001b[1;33m,\u001b[0m\u001b[0mnew\u001b[0m \u001b[1;33m=\u001b[0m \u001b[1;36m0\u001b[0m \u001b[1;33m,\u001b[0m\u001b[0mautoraise\u001b[0m \u001b[1;33m=\u001b[0m \u001b[1;32mTrue\u001b[0m\u001b[1;33m)\u001b[0m\u001b[1;33m\u001b[0m\u001b[1;33m\u001b[0m\u001b[0m\n\u001b[0m",
      "\u001b[1;31mAttributeError\u001b[0m: module 'webbrowser' has no attribute 'conroller'"
     ]
    }
   ],
   "source": [
    "import webbrowser\n",
    "webb1 = webbrowser.conroller.open(\"www.google.co.in\",new = 0 ,autoraise = True)"
   ]
  },
  {
   "cell_type": "markdown",
   "metadata": {},
   "source": [
    "# the kwargs and the args statements"
   ]
  },
  {
   "cell_type": "code",
   "execution_count": 97,
   "metadata": {},
   "outputs": [
    {
     "name": "stdout",
     "output_type": "stream",
     "text": [
      "hello\n",
      "welcome\n",
      "to\n",
      "technoids\n"
     ]
    }
   ],
   "source": [
    "def myfunc(*argv):\n",
    "    for arg in argv:\n",
    "        print(arg)\n",
    "myfunc(\"hello\",\"welcome\",\"to\",\"technoids\")"
   ]
  },
  {
   "cell_type": "code",
   "execution_count": 96,
   "metadata": {},
   "outputs": [
    {
     "name": "stdout",
     "output_type": "stream",
     "text": [
      "First argument : hello\n",
      "next argument through *argv : welcome\n",
      "next argument through *argv : to\n",
      "next argument through *argv : technoids\n"
     ]
    }
   ],
   "source": [
    "def myfunc(arg1,*argv):\n",
    "    print(\"First argument :\",arg1)\n",
    "    for arg in argv:\n",
    "        print(\"next argument through *argv :\",arg)\n",
    "myfunc(\"hello\" ,\"welcome\",\"to\",\"technoids\")"
   ]
  },
  {
   "cell_type": "markdown",
   "metadata": {},
   "source": [
    "# The kwargs functionality is being defined here"
   ]
  },
  {
   "cell_type": "code",
   "execution_count": 105,
   "metadata": {},
   "outputs": [
    {
     "name": "stdout",
     "output_type": "stream",
     "text": [
      "first  == ieee\n",
      "second  == robotics \n",
      "last  == python\n"
     ]
    }
   ],
   "source": [
    "def func(**kwargs):\n",
    "    for key,value in kwargs.items():\n",
    "        print(\"%s  == %s\" %(key,value))\n",
    "func(first = \"ieee\" ,second = \"robotics \" , last = \"python\")"
   ]
  },
  {
   "cell_type": "code",
   "execution_count": 106,
   "metadata": {},
   "outputs": [
    {
     "name": "stdout",
     "output_type": "stream",
     "text": [
      "first  == ieee\n",
      "second  == robotics \n",
      "third  == python\n",
      "last  == c++\n"
     ]
    }
   ],
   "source": [
    "def func(**kwargs):\n",
    "    for key,value in kwargs.items():\n",
    "        print(\"%s  == %s\" %(key,value))\n",
    "func(first = \"ieee\" ,second = \"robotics \" , third = \"python\" , last = \"c++\")"
   ]
  },
  {
   "cell_type": "code",
   "execution_count": 108,
   "metadata": {},
   "outputs": [
    {
     "ename": "TypeError",
     "evalue": "func() takes 0 positional arguments but 1 was given",
     "output_type": "error",
     "traceback": [
      "\u001b[1;31m---------------------------------------------------------------------------\u001b[0m",
      "\u001b[1;31mTypeError\u001b[0m                                 Traceback (most recent call last)",
      "\u001b[1;32m<ipython-input-108-5db96c2886a4>\u001b[0m in \u001b[0;36m<module>\u001b[1;34m\u001b[0m\n\u001b[0;32m      2\u001b[0m     \u001b[1;32mfor\u001b[0m \u001b[0mkey\u001b[0m\u001b[1;33m,\u001b[0m\u001b[0mvalue\u001b[0m \u001b[1;32min\u001b[0m \u001b[0mkwargs\u001b[0m\u001b[1;33m.\u001b[0m\u001b[0mitems\u001b[0m\u001b[1;33m(\u001b[0m\u001b[1;33m)\u001b[0m\u001b[1;33m:\u001b[0m\u001b[1;33m\u001b[0m\u001b[1;33m\u001b[0m\u001b[0m\n\u001b[0;32m      3\u001b[0m         \u001b[0mprint\u001b[0m\u001b[1;33m(\u001b[0m\u001b[1;34m\"%s  == %s\"\u001b[0m \u001b[1;33m%\u001b[0m\u001b[1;33m(\u001b[0m\u001b[0mkey\u001b[0m\u001b[1;33m,\u001b[0m\u001b[0mvalue\u001b[0m\u001b[1;33m)\u001b[0m\u001b[1;33m)\u001b[0m\u001b[1;33m\u001b[0m\u001b[1;33m\u001b[0m\u001b[0m\n\u001b[1;32m----> 4\u001b[1;33m \u001b[0mfunc\u001b[0m\u001b[1;33m(\u001b[0m\u001b[1;34m\"hi\"\u001b[0m\u001b[1;33m,\u001b[0m\u001b[0mfirst\u001b[0m \u001b[1;33m=\u001b[0m \u001b[1;34m\"ieee\"\u001b[0m \u001b[1;33m,\u001b[0m\u001b[0msecond\u001b[0m \u001b[1;33m=\u001b[0m \u001b[1;34m\"robotics \"\u001b[0m \u001b[1;33m,\u001b[0m \u001b[0mthird\u001b[0m \u001b[1;33m=\u001b[0m \u001b[1;34m\"python\"\u001b[0m \u001b[1;33m,\u001b[0m \u001b[0mlast\u001b[0m \u001b[1;33m=\u001b[0m \u001b[1;34m\"c++\"\u001b[0m\u001b[1;33m)\u001b[0m\u001b[1;33m\u001b[0m\u001b[1;33m\u001b[0m\u001b[0m\n\u001b[0m",
      "\u001b[1;31mTypeError\u001b[0m: func() takes 0 positional arguments but 1 was given"
     ]
    }
   ],
   "source": [
    "def func(**kwargs):\n",
    "    for key,value in kwargs.items():\n",
    "        print(\"%s  == %s\" %(key,value))\n",
    "func(\"hi\",first = \"ieee\" ,second = \"robotics \" , third = \"python\" , last = \"c++\")"
   ]
  },
  {
   "cell_type": "code",
   "execution_count": 111,
   "metadata": {},
   "outputs": [
    {
     "name": "stdout",
     "output_type": "stream",
     "text": [
      "arg1: thugs\n",
      "arg2: of\n",
      "arg3: hindustan\n",
      "arg1: amir\n",
      "arg2: karina\n",
      "arg3: fathima\n"
     ]
    }
   ],
   "source": [
    "def myFun(arg1, arg2, arg3): \n",
    "    print(\"arg1:\", arg1) \n",
    "    print(\"arg2:\", arg2) \n",
    "    print(\"arg3:\", arg3) \n",
    "      \n",
    "# Now we can use *args or **kwargs to \n",
    "# pass arguments to this function :  \n",
    "args = (\"thugs\", \"of\", \"hindustan\") \n",
    "myFun(*args) \n",
    "  \n",
    "kwargs = {\"arg1\" : \"amir\", \"arg2\" : \"karina\", \"arg3\" : \"fathima\"} \n",
    "myFun(**kwargs) "
   ]
  },
  {
   "cell_type": "code",
   "execution_count": 112,
   "metadata": {},
   "outputs": [
    {
     "name": "stdout",
     "output_type": "stream",
     "text": [
      "arg1: thugs\n",
      "arg2: of\n",
      "arg3: hindustan\n"
     ]
    },
    {
     "ename": "TypeError",
     "evalue": "myFun() got an unexpected keyword argument 'actor1'",
     "output_type": "error",
     "traceback": [
      "\u001b[1;31m---------------------------------------------------------------------------\u001b[0m",
      "\u001b[1;31mTypeError\u001b[0m                                 Traceback (most recent call last)",
      "\u001b[1;32m<ipython-input-112-a81f80e22a5d>\u001b[0m in \u001b[0;36m<module>\u001b[1;34m\u001b[0m\n\u001b[0;32m     10\u001b[0m \u001b[1;33m\u001b[0m\u001b[0m\n\u001b[0;32m     11\u001b[0m \u001b[0mkwargs\u001b[0m \u001b[1;33m=\u001b[0m \u001b[1;33m{\u001b[0m\u001b[1;34m\"actor1\"\u001b[0m \u001b[1;33m:\u001b[0m \u001b[1;34m\"amir\"\u001b[0m\u001b[1;33m,\u001b[0m \u001b[1;34m\"actor2\"\u001b[0m \u001b[1;33m:\u001b[0m \u001b[1;34m\"karina\"\u001b[0m\u001b[1;33m,\u001b[0m \u001b[1;34m\"actro3\"\u001b[0m \u001b[1;33m:\u001b[0m \u001b[1;34m\"fathima\"\u001b[0m\u001b[1;33m}\u001b[0m\u001b[1;33m\u001b[0m\u001b[1;33m\u001b[0m\u001b[0m\n\u001b[1;32m---> 12\u001b[1;33m \u001b[0mmyFun\u001b[0m\u001b[1;33m(\u001b[0m\u001b[1;33m**\u001b[0m\u001b[0mkwargs\u001b[0m\u001b[1;33m)\u001b[0m\u001b[1;33m\u001b[0m\u001b[1;33m\u001b[0m\u001b[0m\n\u001b[0m",
      "\u001b[1;31mTypeError\u001b[0m: myFun() got an unexpected keyword argument 'actor1'"
     ]
    }
   ],
   "source": [
    "def myFun(arg1, arg2, arg3): \n",
    "    print(\"arg1:\", arg1) \n",
    "    print(\"arg2:\", arg2) \n",
    "    print(\"arg3:\", arg3) \n",
    "      \n",
    "# Now we can use *args or **kwargs to \n",
    "# pass arguments to this function :  \n",
    "args = (\"thugs\", \"of\", \"hindustan\") \n",
    "myFun(*args) \n",
    "  \n",
    "kwargs = {\"actor1\" : \"amir\", \"actor2\" : \"karina\", \"actro3\" : \"fathima\"} \n",
    "myFun(**kwargs) "
   ]
  },
  {
   "cell_type": "code",
   "execution_count": 115,
   "metadata": {},
   "outputs": [
    {
     "name": "stdout",
     "output_type": "stream",
     "text": [
      "HEY!\n"
     ]
    }
   ],
   "source": [
    "def outerfunc(text):\n",
    "    text = text\n",
    "    def innerfunc():\n",
    "        print(text)\n",
    "    innerfunc()\n",
    "if __name__ == '__main__':\n",
    "    outerfunc(\"HEY!\")"
   ]
  },
  {
   "cell_type": "code",
   "execution_count": 116,
   "metadata": {},
   "outputs": [
    {
     "name": "stdout",
     "output_type": "stream",
     "text": [
      "Hey!\n"
     ]
    }
   ],
   "source": [
    "def outerFunction(text): \n",
    "    text = text \n",
    "  \n",
    "    def innerFunction(): \n",
    "        print(text) \n",
    "  \n",
    "    return innerFunction \n",
    "  \n",
    "if __name__ == '__main__': \n",
    "    myFunction = outerFunction('Hey!') \n",
    "    myFunction() "
   ]
  },
  {
   "cell_type": "code",
   "execution_count": 118,
   "metadata": {},
   "outputs": [
    {
     "name": "stdout",
     "output_type": "stream",
     "text": [
      "6\n",
      "9\n",
      "5\n",
      "10\n"
     ]
    }
   ],
   "source": [
    "import logging \n",
    "logging.basicConfig(filename='example.log', level=logging.INFO) \n",
    "  \n",
    "  \n",
    "def logger(func): \n",
    "    def log_func(*args): \n",
    "        logging.info( \n",
    "            'Running \"{}\" with arguments {}'.format(func.__name__, args)) #the raw data information provided\n",
    "        \n",
    "        print(func(*args)) \n",
    "    \n",
    "    return log_func               \n",
    "  \n",
    "def add(x, y): \n",
    "    return x+y \n",
    "  \n",
    "def sub(x, y): \n",
    "    return x-y \n",
    "  \n",
    "add_logger = logger(add) \n",
    "sub_logger = logger(sub) \n",
    "  \n",
    "add_logger(3, 3) \n",
    "add_logger(4, 5) \n",
    "  \n",
    "sub_logger(10, 5) \n",
    "sub_logger(20, 10) "
   ]
  },
  {
   "cell_type": "markdown",
   "metadata": {},
   "source": [
    "# the imports of the functions when in teh middle of the program control"
   ]
  },
  {
   "cell_type": "code",
   "execution_count": 121,
   "metadata": {},
   "outputs": [
    {
     "name": "stdout",
     "output_type": "stream",
     "text": [
      "[1 2 3]\n",
      "<class 'numpy.ndarray'>\n"
     ]
    }
   ],
   "source": [
    "np = __import__(\"numpy\",globals(),locals(),[],0)\n",
    "a = np.array([1,2,3])\n",
    "print(a)\n",
    "print(type(a))"
   ]
  },
  {
   "cell_type": "code",
   "execution_count": null,
   "metadata": {},
   "outputs": [],
   "source": []
  }
 ],
 "metadata": {
  "kernelspec": {
   "display_name": "Python 3",
   "language": "python",
   "name": "python3"
  },
  "language_info": {
   "codemirror_mode": {
    "name": "ipython",
    "version": 3
   },
   "file_extension": ".py",
   "mimetype": "text/x-python",
   "name": "python",
   "nbconvert_exporter": "python",
   "pygments_lexer": "ipython3",
   "version": "3.7.2"
  }
 },
 "nbformat": 4,
 "nbformat_minor": 2
}
